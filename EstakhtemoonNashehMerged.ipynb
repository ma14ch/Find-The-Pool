{
 "cells": [
  {
   "cell_type": "markdown",
   "id": "d333515a",
   "metadata": {},
   "source": [
    "<h1 align=center style=\"line-height:200%;font-family:vazir;color:#0099cc\">\n",
    "<font face=\"vazir\" color=\"#0099cc\">\n",
    "استخرمون نشه؟</font>\n",
    "</h1>"
   ]
  },
  {
   "cell_type": "markdown",
   "id": "6ed20bff",
   "metadata": {},
   "source": [
    "<h2 align=right style=\"line-height:200%;font-family:vazir;color:#0099cc\">\n",
    "<font face=\"vazir\" color=\"#0099cc\">\n",
    "مقدمه و صورت مسئله\n",
    "</font>\n",
    "</h2>\n",
    "\n",
    "<p dir=rtl style=\"direction: rtl; text-align: justify; line-height:200%; font-family:vazir; font-size:medium\">\n",
    "<font face=\"vazir\" size=3>\n",
    "در بسیاری از وب‌سایت‌های گردشگری و رزرو اقامتگاه‌ها، کاربران می‌توانند تصاویر مختلفی از اقامتگاه‌های مختلف را مشاهده کنند. در این مسئله قصد داریم با استفاده از مجموعه‌ای از تصاویر اقامتگاه‌ها، مدلی طراحی کنیم که بتواند بر اساس تحلیل تصاویر یک اقامتگاه، وجود یا عدم وجود استخر در آن اقامتگاه را پیش‌بینی کند.\n",
    "</font>\n",
    "</p>"
   ]
  },
  {
   "cell_type": "markdown",
   "id": "c5af1784",
   "metadata": {},
   "source": [
    "<h2 align=right style=\"line-height:200%;font-family:vazir;color:#0099cc\">\n",
    "<font face=\"vazir\" color=\"#0099cc\">\n",
    "وارد کردن کتابخانه‌های مورد نیاز\n",
    "</font>\n",
    "</h2>\n",
    "\n",
    "<p dir=rtl style=\"direction: rtl; text-align: justify; line-height:200%; font-family:vazir; font-size:medium\">\n",
    "<font face=\"vazir\" size=3>\n",
    "    ابتدا کتابخانه‌های مورد نیازتان را وارد می‌کنیم.\n",
    "</font>\n",
    "</p>"
   ]
  },
  {
   "cell_type": "code",
   "execution_count": 1,
   "id": "99450f9e",
   "metadata": {},
   "outputs": [
    {
     "name": "stderr",
     "output_type": "stream",
     "text": [
      "2024-10-20 01:15:50.467331: I tensorflow/core/util/port.cc:113] oneDNN custom operations are on. You may see slightly different numerical results due to floating-point round-off errors from different computation orders. To turn them off, set the environment variable `TF_ENABLE_ONEDNN_OPTS=0`.\n",
      "2024-10-20 01:15:50.728024: E external/local_xla/xla/stream_executor/cuda/cuda_dnn.cc:9261] Unable to register cuDNN factory: Attempting to register factory for plugin cuDNN when one has already been registered\n",
      "2024-10-20 01:15:50.728076: E external/local_xla/xla/stream_executor/cuda/cuda_fft.cc:607] Unable to register cuFFT factory: Attempting to register factory for plugin cuFFT when one has already been registered\n",
      "2024-10-20 01:15:50.761081: E external/local_xla/xla/stream_executor/cuda/cuda_blas.cc:1515] Unable to register cuBLAS factory: Attempting to register factory for plugin cuBLAS when one has already been registered\n",
      "2024-10-20 01:15:50.840397: I tensorflow/core/platform/cpu_feature_guard.cc:182] This TensorFlow binary is optimized to use available CPU instructions in performance-critical operations.\n",
      "To enable the following instructions: AVX2 AVX_VNNI FMA, in other operations, rebuild TensorFlow with the appropriate compiler flags.\n",
      "2024-10-20 01:15:51.511720: W tensorflow/compiler/tf2tensorrt/utils/py_utils.cc:38] TF-TRT Warning: Could not find TensorRT\n",
      "/home/absi1377/anaconda3/envs/cornac/lib/python3.11/site-packages/tqdm/auto.py:21: TqdmWarning: IProgress not found. Please update jupyter and ipywidgets. See https://ipywidgets.readthedocs.io/en/stable/user_install.html\n",
      "  from .autonotebook import tqdm as notebook_tqdm\n"
     ]
    }
   ],
   "source": [
    "import pandas as pd\n",
    "import numpy as np \n",
    "\n",
    "from PIL import Image\n",
    "import os\n",
    "import tensorflow as tf\n",
    "from tensorflow.keras.preprocessing.image import ImageDataGenerator\n",
    "from tensorflow.keras import layers, models\n",
    "import pandas as pd\n",
    "import numpy as np\n",
    "from sklearn.model_selection import train_test_split\n",
    "import math\n",
    "import spacy\n",
    "from googletrans import Translator\n",
    "from tqdm import tqdm\n",
    "\n",
    "from transformers import BertTokenizer, BertForSequenceClassification, AdamW\n",
    "from torch.utils.data import DataLoader, Dataset\n",
    "import torch\n",
    "\n",
    "import re\n",
    "\n"
   ]
  },
  {
   "cell_type": "markdown",
   "id": "72faaed8",
   "metadata": {},
   "source": [
    "<h2 align=right style=\"line-height:200%;font-family:vazir;color:#0099cc\">\n",
    "<font face=\"vazir\" color=\"#0099cc\">\n",
    "معرفی مجموعه داده\n",
    "</font>\n",
    "</h2>\n",
    "\n",
    "<p dir=rtl style=\"direction: rtl; text-align: justify; line-height:200%; font-family:vazir; font-size:medium\">\n",
    "<font face=\"vazir\" size=3>\n",
    "مجموعه داده ارائه‌شده به صورت JSON حاوی اطلاعاتی درباره ۱۵۹۹ اقامتگاه است که شامل ویژگی‌های مختلفی می‌باشند. این مجموعه شامل یک لیست با کلید \"rooms\" است که اقامتگاه‌های موجود در آن قرار دارند. هر رکورد در این مجموعه داده نمایانگر یک اقامتگاه با خصوصیات و امکانات مربوط به آن است. در جدول زیر، کلیدها و توضیحات آن‌ها آورده شده‌اند.\n",
    "</font>\n",
    "</p>\n",
    "\n",
    "<center>\n",
    "<div dir=rtl style=\"direction: rtl;line-height:200%;font-family:vazir;font-size:medium\">\n",
    "<font face=\"vazir\" size=3>\n",
    "\n",
    "|کلید|توضیحات|\n",
    "|:------:|:---:|\n",
    "|id|شناسه یکتای اقامتگاه|\n",
    "|title|عنوان اقامتگاه|\n",
    "|description|توضیحاتی در مورد اقامتگاه|\n",
    "|province|اطلاعات استان شامل شناسه و نام استان|\n",
    "|city|اطلاعات شهر شامل شناسه و نام شهر|\n",
    "\n",
    "</font>\n",
    "</div>\n",
    "</center>\n",
    "\n",
    "\n",
    "<p dir=rtl style=\"direction: rtl; text-align: justify; line-height:200%; font-family:vazir; font-size:medium\">\n",
    "<font face=\"vazir\" size=3>\n",
    "نمونه‌ای از این داده‌ها به صورت زیر است:\n",
    "</font>\n",
    "</p>\n",
    "\n",
    "```json\n",
    "{\n",
    "  \"rooms\": [\n",
    "    {\n",
    "      \"id\": 3202100,\n",
    "      \"title\": \"اجاره سوئیت در جاده جواهرده - اشکونکوه\",\n",
    "      \"description\": \"این سوئیت بدون اتاق خواب با بالکنی دلباز و چشم اندازی زیبا در طبقه همکف یک ساختمان دو طبقه واقع شده است. فاصله اقامتگاه تا سوپرمارکت و نانوایی به ترتیب حدود ۵۰ و ۵۰۰ متر می باشد.\",\n",
    "      \"province\": {\n",
    "        \"id\": \"p26\",\n",
    "        \"name\": \"مازندران\"\n",
    "      },\n",
    "      \"city\": {\n",
    "        \"id\": 303,\n",
    "        \"name\": \"رامسر\"\n",
    "      },\n",
    "    },\n",
    "    ...\n",
    "  ]\n",
    "}\n",
    "```\n"
   ]
  },
  {
   "cell_type": "markdown",
   "id": "e99bbe9b",
   "metadata": {},
   "source": [
    "<h2 align=\"right\" style=\"line-height:200%;font-family:vazir;color:#0099cc\">\n",
    "<font face=\"vazir\" color=\"#0099cc\">\n",
    "خواندن مجموعه داده\n",
    "</font>\n",
    "</h2>\n",
    "\n",
    "<p dir=\"rtl\" style=\"direction: rtl; text-align: justify; line-height:200%; font-family:vazir; font-size:medium\">\n",
    "<font face=\"vazir\" size=\"3\">\n",
    "    ابتدا نیاز است فایل‌های مجموعه‌‌ی داده را بخوانید. ویژگی‌های آموزشی در فایل <code>train.json</code> و دایرکتوری مربوط به تصاویر نمونه‌های آزمون که باید دسته‌ی آن‌ها را پیش‌بینی کنید، در فایل <code>test.json</code> ذخیره شده‌اند. در صورت نیاز می‌توانید بخشی از داده‌های آموزشی را به عنوان داده‌های اعتبارسنجی جدا کنید. توجه داشته باشید که ستون‌های <code>description</code> و <code>title</code> از داده‌های آزمون حذف شده‌اند و هدف اصلی این فایل، دسترسی به دایرکتوری تصاویر داده‌های آزمون است. دایرکتوری هر تصویر برابر با <code>id</code> هر اقامتگاه است و داخل پوشه <code>pictures</code> قرار دارد.\n",
    "</font>\n",
    "</p>\n",
    "\n",
    "<p dir=\"rtl\" style=\"direction: rtl; text-align: justify; line-height:200%; font-family:vazir; font-size:medium\">\n",
    "    <font face=\"vazir\">\n",
    "        <span style=\"color:orange\"><b>نکته:</b></span>\n",
    "        حجم فایل‌های این سوال حدود ۳.۸ گیگابایت است. در صورتی‌که بارگذاری این فایل‌ها در محیط کولب برای‌تان دشوار است می‌توانید با استفاده از دستور زیر این دو فایل را به‌صورت مستقیم در محیط کولب بارگیری کنید.\n",
    "        همچنین می‌توانید از لینک درایو زیر فایل‌ها را دانلود کرده و بر روی محیط دستگاه خود از آن استفاده کنید.\n",
    "    </font>\n",
    "</p>\n",
    "\n",
    "<p dir=\"rtl\" style=\"direction: rtl; text-align: justify; line-height:200%; font-family:vazir; font-size:medium\">\n",
    "    <font face=\"vazir\">\n",
    "        <a href=\"https://drive.google.com/file/d/1b8O_a6ywcsbLqJAGDGCkePrdn1cFlXl0/view?usp=sharing\" target=\"_blank\" style=\"color:blue;\">لینک دانلود از گوگل درایو</a>\n",
    "    </font>\n",
    "</p>\n",
    "\n",
    "\n",
    "\n"
   ]
  },
  {
   "cell_type": "code",
   "execution_count": 2,
   "id": "38cd8860-eb33-4ade-869f-d5203af80406",
   "metadata": {},
   "outputs": [
    {
     "name": "stdout",
     "output_type": "stream",
     "text": [
      "                                                  rooms\n",
      "0     {'id': 3175858, 'title': 'رزرو ویلا با استخر ر...\n",
      "1     {'id': 3237321, 'title': 'اجاره ویلا استخردار ...\n",
      "2     {'id': 3154228, 'title': 'اجاره ویلا با استخر ...\n",
      "3     {'id': 3169850, 'title': 'رزرو سوئیت در جواهرد...\n",
      "4     {'id': 3207557, 'title': 'اجاره سوئیت در جاده ...\n",
      "...                                                 ...\n",
      "1594  {'id': 3167459, 'title': 'اجاره ویلا استخردار ...\n",
      "1595  {'id': 3207406, 'title': 'اجاره ویلا استخردار ...\n",
      "1596  {'id': 3172620, 'title': 'اجاره ویلا چابکسر - ...\n",
      "1597  {'id': 3237948, 'title': 'اجاره سوئیت در جواهر...\n",
      "1598  {'id': 3229812, 'title': 'اجاره خانه با ویو کو...\n",
      "\n",
      "[1599 rows x 1 columns]\n"
     ]
    }
   ],
   "source": [
    "train_data = pd.read_json('data_pool/train.json')\n",
    "print(train_data)"
   ]
  },
  {
   "cell_type": "code",
   "execution_count": 3,
   "id": "adb6ba5a",
   "metadata": {},
   "outputs": [
    {
     "name": "stdout",
     "output_type": "stream",
     "text": [
      "               rooms\n",
      "0    {'id': 3160664}\n",
      "1    {'id': 3195184}\n",
      "2    {'id': 3224078}\n",
      "3    {'id': 3233712}\n",
      "4    {'id': 3201449}\n",
      "..               ...\n",
      "856  {'id': 3232618}\n",
      "857  {'id': 3230930}\n",
      "858  {'id': 3171083}\n",
      "859  {'id': 3168538}\n",
      "860  {'id': 3168123}\n",
      "\n",
      "[861 rows x 1 columns]\n"
     ]
    }
   ],
   "source": [
    "test_data = pd.read_json('data_pool/test.json')\n",
    "print(test_data)"
   ]
  },
  {
   "cell_type": "markdown",
   "id": "23daec54",
   "metadata": {},
   "source": [
    "<h2 align=\"right\" style=\"line-height: 200%; font-family: Vazir; color: #0099cc;\">\n",
    "    پیش‌پردازش و مهندسی ویژگی\n",
    "</h2>\n",
    "\n",
    "<p dir=\"rtl\" style=\"direction: rtl; text-align: justify; line-height: 200%; font-family: Vazir; font-size: medium;\">\n",
    "    در این بخش، باید با استفاده از توصیفات و تیتر هر اقامت‌گاه، وجود یا عدم وجود استخر را استخراج کنید. می‌توانید از هر تکنیک پیش‌پردازش/مهندسی ویژگی دلخواهتان، استفاده کنید.\n",
    "    <br>ما در این بخش از کتابخانه re معروف استفاده کردیم\n",
    "</p>\n"
   ]
  },
  {
   "cell_type": "code",
   "execution_count": 4,
   "id": "83ec604e-b3fc-4467-bb32-5ed93175bd47",
   "metadata": {},
   "outputs": [
    {
     "name": "stderr",
     "output_type": "stream",
     "text": [
      "Processing texts: 100%|██████████| 1599/1599 [00:00<00:00, 334048.52it/s]\n"
     ]
    },
    {
     "data": {
      "text/html": [
       "<div>\n",
       "<style scoped>\n",
       "    .dataframe tbody tr th:only-of-type {\n",
       "        vertical-align: middle;\n",
       "    }\n",
       "\n",
       "    .dataframe tbody tr th {\n",
       "        vertical-align: top;\n",
       "    }\n",
       "\n",
       "    .dataframe thead th {\n",
       "        text-align: right;\n",
       "    }\n",
       "</style>\n",
       "<table border=\"1\" class=\"dataframe\">\n",
       "  <thead>\n",
       "    <tr style=\"text-align: right;\">\n",
       "      <th></th>\n",
       "      <th>pool</th>\n",
       "      <th>id</th>\n",
       "    </tr>\n",
       "  </thead>\n",
       "  <tbody>\n",
       "    <tr>\n",
       "      <th>0</th>\n",
       "      <td>1</td>\n",
       "      <td>3175858.0</td>\n",
       "    </tr>\n",
       "    <tr>\n",
       "      <th>1</th>\n",
       "      <td>1</td>\n",
       "      <td>3237321.0</td>\n",
       "    </tr>\n",
       "    <tr>\n",
       "      <th>2</th>\n",
       "      <td>1</td>\n",
       "      <td>3154228.0</td>\n",
       "    </tr>\n",
       "    <tr>\n",
       "      <th>3</th>\n",
       "      <td>0</td>\n",
       "      <td>3169850.0</td>\n",
       "    </tr>\n",
       "    <tr>\n",
       "      <th>4</th>\n",
       "      <td>0</td>\n",
       "      <td>3207557.0</td>\n",
       "    </tr>\n",
       "  </tbody>\n",
       "</table>\n",
       "</div>"
      ],
      "text/plain": [
       "   pool         id\n",
       "0     1  3175858.0\n",
       "1     1  3237321.0\n",
       "2     1  3154228.0\n",
       "3     0  3169850.0\n",
       "4     0  3207557.0"
      ]
     },
     "execution_count": 4,
     "metadata": {},
     "output_type": "execute_result"
    }
   ],
   "source": [
    "\n",
    "def detect_pool(text):\n",
    "    pool_keywords = [\"استخر\",\"سونا\",\"جکوزی\",\"استخردار\",\"استخر‌\"]\n",
    "    for keyword in pool_keywords:\n",
    "        if re.search(keyword, text):\n",
    "            return 1  \n",
    "    return 0  \n",
    "\n",
    "results = []\n",
    "texts=[]\n",
    "for i in range (int(train_data.shape[0])):\n",
    "    text = train_data[\"rooms\"][i]['title'] + train_data[\"rooms\"][i]['description']\n",
    "    train_data.loc[i, 'id'] = int(train_data[\"rooms\"][i]['id'])\n",
    "    texts.append(text)\n",
    "  \n",
    "for text in tqdm(texts, desc=\"Processing texts\"):\n",
    "    \n",
    "    result = detect_pool(text)\n",
    "    results.append(result)\n",
    "\n",
    "train_data[\"pool\"]=results\n",
    "train_data = train_data[[\"pool\", \"id\"]]\n",
    "train_data.head()"
   ]
  },
  {
   "cell_type": "markdown",
   "id": "7501d6d2",
   "metadata": {},
   "source": [
    "<p dir=\"rtl\" style=\"direction: rtl; text-align: justify; line-height: 200%; font-family: Vazir; font-size: medium;\">\n",
    "    اینجا کار خاصی انجام نشده فقط نکته ای که هست اینه که بجای اینکه از labelEncoder استفاده کنیم که آیدی هارو داشته باشیم ، متاسفانه به دلیل فرصت کم مجبود شدیم تایپ داده رو عوض کنیم که در مراحل بعد تبدیل به None  بشه\n",
    "    <br>\n",
    "</p>\n"
   ]
  },
  {
   "cell_type": "code",
   "execution_count": 5,
   "id": "b309d903",
   "metadata": {},
   "outputs": [
    {
     "data": {
      "text/html": [
       "<div>\n",
       "<style scoped>\n",
       "    .dataframe tbody tr th:only-of-type {\n",
       "        vertical-align: middle;\n",
       "    }\n",
       "\n",
       "    .dataframe tbody tr th {\n",
       "        vertical-align: top;\n",
       "    }\n",
       "\n",
       "    .dataframe thead th {\n",
       "        text-align: right;\n",
       "    }\n",
       "</style>\n",
       "<table border=\"1\" class=\"dataframe\">\n",
       "  <thead>\n",
       "    <tr style=\"text-align: right;\">\n",
       "      <th></th>\n",
       "      <th>pool</th>\n",
       "      <th>id</th>\n",
       "    </tr>\n",
       "  </thead>\n",
       "  <tbody>\n",
       "    <tr>\n",
       "      <th>0</th>\n",
       "      <td>1</td>\n",
       "      <td>3175858.0</td>\n",
       "    </tr>\n",
       "    <tr>\n",
       "      <th>1</th>\n",
       "      <td>1</td>\n",
       "      <td>3237321.0</td>\n",
       "    </tr>\n",
       "    <tr>\n",
       "      <th>2</th>\n",
       "      <td>1</td>\n",
       "      <td>3154228.0</td>\n",
       "    </tr>\n",
       "    <tr>\n",
       "      <th>3</th>\n",
       "      <td>0</td>\n",
       "      <td>3169850.0</td>\n",
       "    </tr>\n",
       "    <tr>\n",
       "      <th>4</th>\n",
       "      <td>0</td>\n",
       "      <td>3207557.0</td>\n",
       "    </tr>\n",
       "  </tbody>\n",
       "</table>\n",
       "</div>"
      ],
      "text/plain": [
       "   pool         id\n",
       "0     1  3175858.0\n",
       "1     1  3237321.0\n",
       "2     1  3154228.0\n",
       "3     0  3169850.0\n",
       "4     0  3207557.0"
      ]
     },
     "execution_count": 5,
     "metadata": {},
     "output_type": "execute_result"
    }
   ],
   "source": [
    "train_data[\"id\"]=train_data[\"id\"].astype(str)\n",
    "train_data.head()"
   ]
  },
  {
   "cell_type": "markdown",
   "id": "1cf7eac2",
   "metadata": {},
   "source": [
    "<p dir=\"rtl\" style=\"direction: rtl; text-align: justify; line-height: 200%; font-family: Vazir; font-size: medium;\">\n",
    "تصاویر مربوط به هر اقامتگاه رو میچسبونیم به هم در یه تصویر، علت اش واضحه نه؟ یه کتاب رو نمیشه از رو جلدش قضاوت کرد.\n",
    "    <br>\n",
    "</p>"
   ]
  },
  {
   "cell_type": "code",
   "execution_count": 6,
   "id": "9c6de996",
   "metadata": {},
   "outputs": [],
   "source": [
    "i\n",
    "\n",
    "\n",
    "def create_image_dataframe(data, image_dir, output_size=(256, 256), cell_size=(64, 64)):\n",
    "    image_paths = []\n",
    "    labels = []\n",
    "\n",
    "    folder_paths = {str(int(float(row['id']))): row['pool'] for _, row in data.iterrows()}\n",
    "\n",
    "    def merge_images_in_folder(folder_path, output_size, cell_size):\n",
    "        \"\"\"\n",
    "        Merge all images in the folder into a single image with dynamic grid layout.\n",
    "        \"\"\"\n",
    "        image_files = [os.path.join(folder_path, f) for f in os.listdir(folder_path) if f.lower().endswith('jpg')]\n",
    "        \n",
    "        if len(image_files) == 0:\n",
    "            print(f\"No images found in {folder_path}\")\n",
    "            return None\n",
    "\n",
    "        num_images = len(image_files)\n",
    "        grid_cols = math.ceil(math.sqrt(num_images)) \n",
    "        grid_rows = math.ceil(num_images / grid_cols) \n",
    "\n",
    "        images = [Image.open(img).resize(cell_size) for img in image_files]\n",
    "\n",
    "        merged_image = Image.new('RGB', (grid_cols * cell_size[0], grid_rows * cell_size[1]))\n",
    "\n",
    "        for idx, img in enumerate(images):\n",
    "            row = idx // grid_cols\n",
    "            col = idx % grid_cols\n",
    "            merged_image.paste(img, (col * cell_size[0], row * cell_size[1]))\n",
    "\n",
    "        merged_image = merged_image.resize(output_size)\n",
    "\n",
    "        return merged_image\n",
    "    \n",
    "    for id_folder, label in folder_paths.items():\n",
    "        folder_path = os.path.join(image_dir, id_folder)\n",
    "        \n",
    "        if os.path.exists(folder_path): \n",
    "            merged_image = merge_images_in_folder(folder_path, output_size, cell_size)\n",
    "            if merged_image:\n",
    "                merged_image_path = os.path.join(image_dir+\"/images/\", f\"{id_folder}.jpg\")\n",
    "                merged_image.save(merged_image_path)  \n",
    "                image_paths.append(merged_image_path)  \n",
    "                labels.append(label)  \n",
    "        else:\n",
    "            print(f\"Warning: Folder {folder_path} not found.\")\n",
    "    \n",
    "    return pd.DataFrame({'image_path': image_paths, 'pool': labels})\n",
    "\n",
    "# df = create_image_dataframe(data, 'data_pool/train', output_size=(512, 512), cell_size=(128, 128))\n",
    "\n",
    "train_data['id'] = train_data['id'].astype(str)\n",
    "train_data['pool'] = train_data['pool'].astype(int)\n",
    "\n",
    "train_df, val_df = train_test_split(train_data, test_size=0.2, random_state=42)\n",
    "\n",
    "image_dir = 'data_pool/train'\n",
    "\n",
    "train_df = create_image_dataframe(train_df, image_dir)\n",
    "val_df = create_image_dataframe(val_df, image_dir)\n"
   ]
  },
  {
   "cell_type": "markdown",
   "id": "f559599d",
   "metadata": {},
   "source": [
    " <p dir=\"rtl\" style=\"direction: rtl; text-align: justify; line-height: 200%; font-family: Vazir; font-size: medium;\">\n",
    "دو تا خط پایین کار خاصی نکردم :) برای اینکه نخام دوباره پیش پردازش داده ها رو داخل ران هام انجام بدم سیو کردم دیتاست هامو   \n",
    "    <br>\n",
    "</p>"
   ]
  },
  {
   "cell_type": "code",
   "execution_count": 7,
   "id": "040a7911",
   "metadata": {},
   "outputs": [],
   "source": [
    "train_df.to_csv(\"train_df.csv\")\n",
    "val_df.to_csv(\"val_df.csv\")\n"
   ]
  },
  {
   "cell_type": "code",
   "execution_count": 8,
   "id": "4a9edf26",
   "metadata": {},
   "outputs": [],
   "source": [
    "import pandas as pd\n",
    "val_df=pd.read_csv(\"val_df.csv\")\n",
    "train_df=pd.read_csv(\"train_df.csv\")\n"
   ]
  },
  {
   "cell_type": "markdown",
   "id": "428fd64e",
   "metadata": {},
   "source": [
    " <p dir=\"rtl\" style=\"direction: rtl; text-align: justify; line-height: 200%; font-family: Vazir; font-size: medium;\">\n",
    "پیش پردازش نهایی واسه ارسال داده ها به مدل    <br>\n",
    "</p>"
   ]
  },
  {
   "cell_type": "code",
   "execution_count": 9,
   "id": "8698f6d8",
   "metadata": {},
   "outputs": [
    {
     "name": "stdout",
     "output_type": "stream",
     "text": [
      "['data_pool/train/images/3216606.jpg', 'data_pool/train/images/3223930.jpg', 'data_pool/train/images/3168185.jpg', 'data_pool/train/images/3187761.jpg', 'data_pool/train/images/3229610.jpg', 'data_pool/train/images/3228960.jpg', 'data_pool/train/images/3197932.jpg', 'data_pool/train/images/3206982.jpg', 'data_pool/train/images/3220538.jpg', 'data_pool/train/images/3193462.jpg', 'data_pool/train/images/3183382.jpg', 'data_pool/train/images/3239220.jpg', 'data_pool/train/images/3146921.jpg', 'data_pool/train/images/3208556.jpg', 'data_pool/train/images/3206305.jpg', 'data_pool/train/images/3192439.jpg', 'data_pool/train/images/3176181.jpg', 'data_pool/train/images/3229066.jpg', 'data_pool/train/images/3211064.jpg', 'data_pool/train/images/3198514.jpg', 'data_pool/train/images/3171145.jpg', 'data_pool/train/images/3213655.jpg', 'data_pool/train/images/3210633.jpg', 'data_pool/train/images/3217238.jpg', 'data_pool/train/images/3212232.jpg', 'data_pool/train/images/3235368.jpg', 'data_pool/train/images/3214389.jpg', 'data_pool/train/images/3154116.jpg', 'data_pool/train/images/3173766.jpg', 'data_pool/train/images/3216683.jpg', 'data_pool/train/images/3152754.jpg', 'data_pool/train/images/3161964.jpg', 'data_pool/train/images/3177749.jpg', 'data_pool/train/images/3213837.jpg', 'data_pool/train/images/3203743.jpg', 'data_pool/train/images/3207811.jpg', 'data_pool/train/images/3193942.jpg', 'data_pool/train/images/3191559.jpg', 'data_pool/train/images/3213348.jpg', 'data_pool/train/images/3202175.jpg', 'data_pool/train/images/3229141.jpg', 'data_pool/train/images/3166572.jpg', 'data_pool/train/images/3148205.jpg', 'data_pool/train/images/3231577.jpg', 'data_pool/train/images/3171538.jpg', 'data_pool/train/images/3196383.jpg', 'data_pool/train/images/3177134.jpg', 'data_pool/train/images/3227867.jpg', 'data_pool/train/images/3213987.jpg', 'data_pool/train/images/3217023.jpg', 'data_pool/train/images/3205594.jpg', 'data_pool/train/images/3182469.jpg', 'data_pool/train/images/3224589.jpg', 'data_pool/train/images/3166966.jpg', 'data_pool/train/images/3177681.jpg', 'data_pool/train/images/3211448.jpg', 'data_pool/train/images/3212383.jpg', 'data_pool/train/images/3190554.jpg', 'data_pool/train/images/3157908.jpg', 'data_pool/train/images/3219930.jpg', 'data_pool/train/images/3198275.jpg', 'data_pool/train/images/3185792.jpg', 'data_pool/train/images/3192708.jpg', 'data_pool/train/images/3206501.jpg', 'data_pool/train/images/3178979.jpg', 'data_pool/train/images/3234148.jpg', 'data_pool/train/images/3206624.jpg', 'data_pool/train/images/3185126.jpg', 'data_pool/train/images/3233655.jpg', 'data_pool/train/images/3155035.jpg', 'data_pool/train/images/3221779.jpg', 'data_pool/train/images/3218073.jpg', 'data_pool/train/images/3158116.jpg', 'data_pool/train/images/3215778.jpg', 'data_pool/train/images/3163580.jpg', 'data_pool/train/images/3215111.jpg', 'data_pool/train/images/3166856.jpg', 'data_pool/train/images/3209808.jpg', 'data_pool/train/images/3212450.jpg', 'data_pool/train/images/3215738.jpg', 'data_pool/train/images/3187408.jpg', 'data_pool/train/images/3201885.jpg', 'data_pool/train/images/3228093.jpg', 'data_pool/train/images/3169506.jpg', 'data_pool/train/images/3209735.jpg', 'data_pool/train/images/3177679.jpg', 'data_pool/train/images/3163716.jpg', 'data_pool/train/images/3191939.jpg', 'data_pool/train/images/3178982.jpg', 'data_pool/train/images/3201223.jpg', 'data_pool/train/images/3151391.jpg', 'data_pool/train/images/3175111.jpg', 'data_pool/train/images/3165554.jpg', 'data_pool/train/images/3158110.jpg', 'data_pool/train/images/3210178.jpg', 'data_pool/train/images/3158127.jpg', 'data_pool/train/images/3171540.jpg', 'data_pool/train/images/3212336.jpg', 'data_pool/train/images/3226310.jpg', 'data_pool/train/images/3164665.jpg', 'data_pool/train/images/3149851.jpg', 'data_pool/train/images/3234822.jpg', 'data_pool/train/images/3156333.jpg', 'data_pool/train/images/3205887.jpg', 'data_pool/train/images/3175051.jpg', 'data_pool/train/images/3237948.jpg', 'data_pool/train/images/3204355.jpg', 'data_pool/train/images/3230150.jpg', 'data_pool/train/images/3178336.jpg', 'data_pool/train/images/3223728.jpg', 'data_pool/train/images/3142988.jpg', 'data_pool/train/images/3189621.jpg', 'data_pool/train/images/3210154.jpg', 'data_pool/train/images/3185191.jpg', 'data_pool/train/images/3183091.jpg', 'data_pool/train/images/3196265.jpg', 'data_pool/train/images/3154459.jpg', 'data_pool/train/images/3210424.jpg', 'data_pool/train/images/3224926.jpg', 'data_pool/train/images/3205002.jpg', 'data_pool/train/images/3198335.jpg', 'data_pool/train/images/3196247.jpg', 'data_pool/train/images/3180920.jpg', 'data_pool/train/images/3158495.jpg', 'data_pool/train/images/3189118.jpg', 'data_pool/train/images/3154125.jpg', 'data_pool/train/images/3217162.jpg', 'data_pool/train/images/3147108.jpg', 'data_pool/train/images/3211133.jpg', 'data_pool/train/images/3141824.jpg', 'data_pool/train/images/3156974.jpg', 'data_pool/train/images/3207076.jpg', 'data_pool/train/images/3156956.jpg', 'data_pool/train/images/3174752.jpg', 'data_pool/train/images/3223356.jpg', 'data_pool/train/images/3181495.jpg', 'data_pool/train/images/3204118.jpg', 'data_pool/train/images/3209889.jpg', 'data_pool/train/images/3175962.jpg', 'data_pool/train/images/3186614.jpg', 'data_pool/train/images/3175809.jpg', 'data_pool/train/images/3227912.jpg', 'data_pool/train/images/3179876.jpg', 'data_pool/train/images/3157887.jpg', 'data_pool/train/images/3162343.jpg', 'data_pool/train/images/3205784.jpg', 'data_pool/train/images/3228540.jpg', 'data_pool/train/images/3219564.jpg', 'data_pool/train/images/3196304.jpg', 'data_pool/train/images/3237377.jpg', 'data_pool/train/images/3188784.jpg', 'data_pool/train/images/3141183.jpg', 'data_pool/train/images/3238713.jpg', 'data_pool/train/images/3233686.jpg', 'data_pool/train/images/3184172.jpg', 'data_pool/train/images/3197980.jpg', 'data_pool/train/images/3167181.jpg', 'data_pool/train/images/3210787.jpg', 'data_pool/train/images/3203551.jpg', 'data_pool/train/images/3236523.jpg', 'data_pool/train/images/3231160.jpg', 'data_pool/train/images/3215052.jpg', 'data_pool/train/images/3168680.jpg', 'data_pool/train/images/3196077.jpg', 'data_pool/train/images/3160478.jpg', 'data_pool/train/images/3237689.jpg', 'data_pool/train/images/3202344.jpg', 'data_pool/train/images/3196914.jpg', 'data_pool/train/images/3229835.jpg', 'data_pool/train/images/3222502.jpg', 'data_pool/train/images/3196034.jpg', 'data_pool/train/images/3225468.jpg', 'data_pool/train/images/3236093.jpg', 'data_pool/train/images/3208737.jpg', 'data_pool/train/images/3234499.jpg', 'data_pool/train/images/3178306.jpg', 'data_pool/train/images/3208562.jpg', 'data_pool/train/images/3238931.jpg', 'data_pool/train/images/3234968.jpg', 'data_pool/train/images/3204124.jpg', 'data_pool/train/images/3159813.jpg', 'data_pool/train/images/3239050.jpg', 'data_pool/train/images/3235695.jpg', 'data_pool/train/images/3231831.jpg', 'data_pool/train/images/3209929.jpg', 'data_pool/train/images/3216268.jpg', 'data_pool/train/images/3217337.jpg', 'data_pool/train/images/3193778.jpg', 'data_pool/train/images/3218727.jpg', 'data_pool/train/images/3221199.jpg', 'data_pool/train/images/3200274.jpg', 'data_pool/train/images/3231609.jpg', 'data_pool/train/images/3230542.jpg', 'data_pool/train/images/3217942.jpg', 'data_pool/train/images/3212647.jpg', 'data_pool/train/images/3215109.jpg', 'data_pool/train/images/3146691.jpg', 'data_pool/train/images/3187197.jpg', 'data_pool/train/images/3228738.jpg', 'data_pool/train/images/3233188.jpg', 'data_pool/train/images/3214435.jpg', 'data_pool/train/images/3203722.jpg', 'data_pool/train/images/3195471.jpg', 'data_pool/train/images/3233892.jpg', 'data_pool/train/images/3205964.jpg', 'data_pool/train/images/3195544.jpg', 'data_pool/train/images/3192558.jpg', 'data_pool/train/images/3223498.jpg', 'data_pool/train/images/3231248.jpg', 'data_pool/train/images/3229035.jpg', 'data_pool/train/images/3159844.jpg', 'data_pool/train/images/3204662.jpg', 'data_pool/train/images/3214972.jpg', 'data_pool/train/images/3145719.jpg', 'data_pool/train/images/3193920.jpg', 'data_pool/train/images/3223540.jpg', 'data_pool/train/images/3182775.jpg', 'data_pool/train/images/3212069.jpg', 'data_pool/train/images/3160726.jpg', 'data_pool/train/images/3196282.jpg', 'data_pool/train/images/3147098.jpg', 'data_pool/train/images/3179203.jpg', 'data_pool/train/images/3143290.jpg', 'data_pool/train/images/3165928.jpg', 'data_pool/train/images/3173585.jpg', 'data_pool/train/images/3173591.jpg', 'data_pool/train/images/3213157.jpg', 'data_pool/train/images/3199036.jpg', 'data_pool/train/images/3204618.jpg', 'data_pool/train/images/3200065.jpg', 'data_pool/train/images/3204235.jpg', 'data_pool/train/images/3174864.jpg', 'data_pool/train/images/3234359.jpg', 'data_pool/train/images/3161052.jpg', 'data_pool/train/images/3169235.jpg', 'data_pool/train/images/3173391.jpg', 'data_pool/train/images/3196893.jpg', 'data_pool/train/images/3233646.jpg', 'data_pool/train/images/3141708.jpg', 'data_pool/train/images/3180389.jpg', 'data_pool/train/images/3199772.jpg', 'data_pool/train/images/3192408.jpg', 'data_pool/train/images/3216273.jpg', 'data_pool/train/images/3228468.jpg', 'data_pool/train/images/3210903.jpg', 'data_pool/train/images/3189930.jpg', 'data_pool/train/images/3213474.jpg', 'data_pool/train/images/3155276.jpg', 'data_pool/train/images/3203351.jpg', 'data_pool/train/images/3170770.jpg', 'data_pool/train/images/3214857.jpg', 'data_pool/train/images/3187355.jpg', 'data_pool/train/images/3238947.jpg', 'data_pool/train/images/3164526.jpg', 'data_pool/train/images/3231638.jpg', 'data_pool/train/images/3179644.jpg', 'data_pool/train/images/3197217.jpg', 'data_pool/train/images/3204584.jpg', 'data_pool/train/images/3214113.jpg', 'data_pool/train/images/3158112.jpg', 'data_pool/train/images/3161057.jpg', 'data_pool/train/images/3173354.jpg', 'data_pool/train/images/3202437.jpg', 'data_pool/train/images/3220559.jpg', 'data_pool/train/images/3154841.jpg', 'data_pool/train/images/3218651.jpg', 'data_pool/train/images/3169619.jpg', 'data_pool/train/images/3152229.jpg', 'data_pool/train/images/3219369.jpg', 'data_pool/train/images/3175608.jpg', 'data_pool/train/images/3205404.jpg', 'data_pool/train/images/3158278.jpg', 'data_pool/train/images/3198813.jpg', 'data_pool/train/images/3207315.jpg', 'data_pool/train/images/3163962.jpg', 'data_pool/train/images/3171292.jpg', 'data_pool/train/images/3150841.jpg', 'data_pool/train/images/3203265.jpg', 'data_pool/train/images/3213917.jpg', 'data_pool/train/images/3150873.jpg', 'data_pool/train/images/3226453.jpg', 'data_pool/train/images/3213630.jpg', 'data_pool/train/images/3177056.jpg', 'data_pool/train/images/3226938.jpg', 'data_pool/train/images/3217751.jpg', 'data_pool/train/images/3220858.jpg', 'data_pool/train/images/3203000.jpg', 'data_pool/train/images/3172824.jpg', 'data_pool/train/images/3142386.jpg', 'data_pool/train/images/3201710.jpg', 'data_pool/train/images/3234421.jpg', 'data_pool/train/images/3234261.jpg', 'data_pool/train/images/3206302.jpg', 'data_pool/train/images/3234689.jpg', 'data_pool/train/images/3228220.jpg', 'data_pool/train/images/3209177.jpg', 'data_pool/train/images/3238035.jpg', 'data_pool/train/images/3184405.jpg', 'data_pool/train/images/3227621.jpg', 'data_pool/train/images/3228713.jpg', 'data_pool/train/images/3235078.jpg', 'data_pool/train/images/3203134.jpg', 'data_pool/train/images/3146261.jpg', 'data_pool/train/images/3186695.jpg', 'data_pool/train/images/3168537.jpg', 'data_pool/train/images/3158344.jpg', 'data_pool/train/images/3230953.jpg', 'data_pool/train/images/3210812.jpg', 'data_pool/train/images/3181268.jpg', 'data_pool/train/images/3207712.jpg', 'data_pool/train/images/3169203.jpg', 'data_pool/train/images/3142737.jpg', 'data_pool/train/images/3146979.jpg', 'data_pool/train/images/3212193.jpg', 'data_pool/train/images/3197522.jpg', 'data_pool/train/images/3215842.jpg', 'data_pool/train/images/3234078.jpg', 'data_pool/train/images/3214643.jpg', 'data_pool/train/images/3236423.jpg', 'data_pool/train/images/3202693.jpg', 'data_pool/train/images/3179341.jpg', 'data_pool/train/images/3237135.jpg', 'data_pool/train/images/3176828.jpg', 'data_pool/train/images/3216784.jpg', 'data_pool/train/images/3169398.jpg', 'data_pool/train/images/3186996.jpg', 'data_pool/train/images/3203709.jpg', 'data_pool/train/images/3214687.jpg', 'data_pool/train/images/3147865.jpg', 'data_pool/train/images/3213168.jpg', 'data_pool/train/images/3144176.jpg', 'data_pool/train/images/3220017.jpg', 'data_pool/train/images/3142390.jpg', 'data_pool/train/images/3217470.jpg', 'data_pool/train/images/3186420.jpg', 'data_pool/train/images/3238694.jpg', 'data_pool/train/images/3201338.jpg', 'data_pool/train/images/3232625.jpg', 'data_pool/train/images/3189219.jpg', 'data_pool/train/images/3224594.jpg', 'data_pool/train/images/3235596.jpg', 'data_pool/train/images/3169850.jpg', 'data_pool/train/images/3226759.jpg', 'data_pool/train/images/3232638.jpg', 'data_pool/train/images/3166337.jpg', 'data_pool/train/images/3201421.jpg', 'data_pool/train/images/3201671.jpg', 'data_pool/train/images/3213435.jpg', 'data_pool/train/images/3190286.jpg', 'data_pool/train/images/3164653.jpg', 'data_pool/train/images/3152584.jpg', 'data_pool/train/images/3230777.jpg', 'data_pool/train/images/3186050.jpg', 'data_pool/train/images/3213753.jpg', 'data_pool/train/images/3223516.jpg', 'data_pool/train/images/3164225.jpg', 'data_pool/train/images/3182714.jpg', 'data_pool/train/images/3180166.jpg', 'data_pool/train/images/3221463.jpg', 'data_pool/train/images/3163400.jpg', 'data_pool/train/images/3207560.jpg', 'data_pool/train/images/3182619.jpg', 'data_pool/train/images/3143119.jpg', 'data_pool/train/images/3169157.jpg', 'data_pool/train/images/3215615.jpg', 'data_pool/train/images/3194895.jpg', 'data_pool/train/images/3150204.jpg', 'data_pool/train/images/3179757.jpg', 'data_pool/train/images/3214002.jpg', 'data_pool/train/images/3210234.jpg', 'data_pool/train/images/3163066.jpg', 'data_pool/train/images/3231818.jpg', 'data_pool/train/images/3218448.jpg', 'data_pool/train/images/3188319.jpg', 'data_pool/train/images/3191661.jpg', 'data_pool/train/images/3144032.jpg', 'data_pool/train/images/3170831.jpg', 'data_pool/train/images/3159235.jpg', 'data_pool/train/images/3209011.jpg', 'data_pool/train/images/3192068.jpg', 'data_pool/train/images/3165626.jpg', 'data_pool/train/images/3228177.jpg', 'data_pool/train/images/3163111.jpg', 'data_pool/train/images/3202144.jpg', 'data_pool/train/images/3194878.jpg', 'data_pool/train/images/3165087.jpg', 'data_pool/train/images/3205016.jpg', 'data_pool/train/images/3213600.jpg', 'data_pool/train/images/3216315.jpg', 'data_pool/train/images/3192944.jpg', 'data_pool/train/images/3194934.jpg', 'data_pool/train/images/3236721.jpg', 'data_pool/train/images/3167709.jpg', 'data_pool/train/images/3186882.jpg', 'data_pool/train/images/3222536.jpg', 'data_pool/train/images/3235258.jpg', 'data_pool/train/images/3189645.jpg', 'data_pool/train/images/3203416.jpg', 'data_pool/train/images/3197965.jpg', 'data_pool/train/images/3208853.jpg', 'data_pool/train/images/3182144.jpg', 'data_pool/train/images/3195216.jpg', 'data_pool/train/images/3220681.jpg', 'data_pool/train/images/3221661.jpg', 'data_pool/train/images/3168026.jpg', 'data_pool/train/images/3232573.jpg', 'data_pool/train/images/3208604.jpg', 'data_pool/train/images/3168202.jpg', 'data_pool/train/images/3160789.jpg', 'data_pool/train/images/3190624.jpg', 'data_pool/train/images/3214051.jpg', 'data_pool/train/images/3219122.jpg', 'data_pool/train/images/3154228.jpg', 'data_pool/train/images/3195554.jpg', 'data_pool/train/images/3165912.jpg', 'data_pool/train/images/3171291.jpg', 'data_pool/train/images/3188607.jpg', 'data_pool/train/images/3213699.jpg', 'data_pool/train/images/3187730.jpg', 'data_pool/train/images/3237262.jpg', 'data_pool/train/images/3225925.jpg', 'data_pool/train/images/3219140.jpg', 'data_pool/train/images/3231429.jpg', 'data_pool/train/images/3211153.jpg', 'data_pool/train/images/3167737.jpg', 'data_pool/train/images/3224549.jpg', 'data_pool/train/images/3152335.jpg', 'data_pool/train/images/3227748.jpg', 'data_pool/train/images/3185509.jpg', 'data_pool/train/images/3200421.jpg', 'data_pool/train/images/3194566.jpg', 'data_pool/train/images/3212684.jpg', 'data_pool/train/images/3202007.jpg', 'data_pool/train/images/3224254.jpg', 'data_pool/train/images/3199913.jpg', 'data_pool/train/images/3216470.jpg', 'data_pool/train/images/3172912.jpg', 'data_pool/train/images/3146676.jpg', 'data_pool/train/images/3229935.jpg', 'data_pool/train/images/3165758.jpg', 'data_pool/train/images/3222510.jpg', 'data_pool/train/images/3234454.jpg', 'data_pool/train/images/3232241.jpg', 'data_pool/train/images/3186317.jpg', 'data_pool/train/images/3145502.jpg', 'data_pool/train/images/3204564.jpg', 'data_pool/train/images/3175806.jpg', 'data_pool/train/images/3177774.jpg', 'data_pool/train/images/3237051.jpg', 'data_pool/train/images/3194909.jpg', 'data_pool/train/images/3194372.jpg', 'data_pool/train/images/3199622.jpg', 'data_pool/train/images/3190914.jpg', 'data_pool/train/images/3210214.jpg', 'data_pool/train/images/3212960.jpg', 'data_pool/train/images/3210189.jpg', 'data_pool/train/images/3196667.jpg', 'data_pool/train/images/3211840.jpg', 'data_pool/train/images/3196358.jpg', 'data_pool/train/images/3162458.jpg', 'data_pool/train/images/3155799.jpg', 'data_pool/train/images/3213424.jpg', 'data_pool/train/images/3214766.jpg', 'data_pool/train/images/3150380.jpg', 'data_pool/train/images/3173081.jpg', 'data_pool/train/images/3152786.jpg', 'data_pool/train/images/3214221.jpg', 'data_pool/train/images/3166857.jpg', 'data_pool/train/images/3226493.jpg', 'data_pool/train/images/3166173.jpg', 'data_pool/train/images/3167459.jpg', 'data_pool/train/images/3186819.jpg', 'data_pool/train/images/3221867.jpg', 'data_pool/train/images/3237461.jpg', 'data_pool/train/images/3184042.jpg', 'data_pool/train/images/3218751.jpg', 'data_pool/train/images/3196399.jpg', 'data_pool/train/images/3147802.jpg', 'data_pool/train/images/3150866.jpg', 'data_pool/train/images/3208027.jpg', 'data_pool/train/images/3235777.jpg', 'data_pool/train/images/3144704.jpg', 'data_pool/train/images/3201501.jpg', 'data_pool/train/images/3236895.jpg', 'data_pool/train/images/3150097.jpg', 'data_pool/train/images/3185265.jpg', 'data_pool/train/images/3190333.jpg', 'data_pool/train/images/3198551.jpg', 'data_pool/train/images/3205260.jpg', 'data_pool/train/images/3200672.jpg', 'data_pool/train/images/3197002.jpg', 'data_pool/train/images/3180159.jpg', 'data_pool/train/images/3155991.jpg', 'data_pool/train/images/3198383.jpg', 'data_pool/train/images/3182354.jpg', 'data_pool/train/images/3220543.jpg', 'data_pool/train/images/3197338.jpg', 'data_pool/train/images/3217357.jpg', 'data_pool/train/images/3195671.jpg', 'data_pool/train/images/3226926.jpg', 'data_pool/train/images/3186394.jpg', 'data_pool/train/images/3167680.jpg', 'data_pool/train/images/3160756.jpg', 'data_pool/train/images/3177000.jpg', 'data_pool/train/images/3147105.jpg', 'data_pool/train/images/3234342.jpg', 'data_pool/train/images/3232233.jpg', 'data_pool/train/images/3223209.jpg', 'data_pool/train/images/3233871.jpg', 'data_pool/train/images/3179096.jpg', 'data_pool/train/images/3237991.jpg', 'data_pool/train/images/3210628.jpg', 'data_pool/train/images/3200057.jpg', 'data_pool/train/images/3183408.jpg', 'data_pool/train/images/3172741.jpg', 'data_pool/train/images/3237448.jpg', 'data_pool/train/images/3161049.jpg', 'data_pool/train/images/3236509.jpg', 'data_pool/train/images/3198921.jpg', 'data_pool/train/images/3196572.jpg', 'data_pool/train/images/3195499.jpg', 'data_pool/train/images/3235386.jpg', 'data_pool/train/images/3165460.jpg', 'data_pool/train/images/3180560.jpg', 'data_pool/train/images/3179759.jpg', 'data_pool/train/images/3238006.jpg', 'data_pool/train/images/3235850.jpg', 'data_pool/train/images/3215475.jpg', 'data_pool/train/images/3237592.jpg', 'data_pool/train/images/3231663.jpg', 'data_pool/train/images/3175784.jpg', 'data_pool/train/images/3177788.jpg', 'data_pool/train/images/3158832.jpg', 'data_pool/train/images/3152297.jpg', 'data_pool/train/images/3227379.jpg', 'data_pool/train/images/3214009.jpg', 'data_pool/train/images/3208527.jpg', 'data_pool/train/images/3183044.jpg', 'data_pool/train/images/3189711.jpg', 'data_pool/train/images/3189351.jpg', 'data_pool/train/images/3194010.jpg', 'data_pool/train/images/3166948.jpg', 'data_pool/train/images/3172267.jpg', 'data_pool/train/images/3233537.jpg', 'data_pool/train/images/3198253.jpg', 'data_pool/train/images/3173944.jpg', 'data_pool/train/images/3149048.jpg', 'data_pool/train/images/3226395.jpg', 'data_pool/train/images/3211303.jpg', 'data_pool/train/images/3226939.jpg', 'data_pool/train/images/3205797.jpg', 'data_pool/train/images/3180097.jpg', 'data_pool/train/images/3165552.jpg', 'data_pool/train/images/3180498.jpg', 'data_pool/train/images/3236376.jpg', 'data_pool/train/images/3166894.jpg', 'data_pool/train/images/3223642.jpg', 'data_pool/train/images/3232471.jpg', 'data_pool/train/images/3175858.jpg', 'data_pool/train/images/3170932.jpg', 'data_pool/train/images/3205733.jpg', 'data_pool/train/images/3218944.jpg', 'data_pool/train/images/3145508.jpg', 'data_pool/train/images/3216803.jpg', 'data_pool/train/images/3186557.jpg', 'data_pool/train/images/3154813.jpg', 'data_pool/train/images/3170171.jpg', 'data_pool/train/images/3177984.jpg', 'data_pool/train/images/3214259.jpg', 'data_pool/train/images/3214419.jpg', 'data_pool/train/images/3199727.jpg', 'data_pool/train/images/3172686.jpg', 'data_pool/train/images/3202056.jpg', 'data_pool/train/images/3210351.jpg', 'data_pool/train/images/3194616.jpg', 'data_pool/train/images/3165524.jpg', 'data_pool/train/images/3179483.jpg', 'data_pool/train/images/3228533.jpg', 'data_pool/train/images/3166215.jpg', 'data_pool/train/images/3151889.jpg', 'data_pool/train/images/3214691.jpg', 'data_pool/train/images/3153608.jpg', 'data_pool/train/images/3169331.jpg', 'data_pool/train/images/3216039.jpg', 'data_pool/train/images/3228004.jpg', 'data_pool/train/images/3173538.jpg', 'data_pool/train/images/3214097.jpg', 'data_pool/train/images/3184701.jpg', 'data_pool/train/images/3237380.jpg', 'data_pool/train/images/3209736.jpg', 'data_pool/train/images/3233036.jpg', 'data_pool/train/images/3189327.jpg', 'data_pool/train/images/3224939.jpg', 'data_pool/train/images/3210873.jpg', 'data_pool/train/images/3211350.jpg', 'data_pool/train/images/3226902.jpg', 'data_pool/train/images/3190547.jpg', 'data_pool/train/images/3224102.jpg', 'data_pool/train/images/3214343.jpg', 'data_pool/train/images/3186867.jpg', 'data_pool/train/images/3197127.jpg', 'data_pool/train/images/3196804.jpg', 'data_pool/train/images/3160062.jpg', 'data_pool/train/images/3219325.jpg', 'data_pool/train/images/3170837.jpg', 'data_pool/train/images/3232076.jpg', 'data_pool/train/images/3233273.jpg', 'data_pool/train/images/3178926.jpg', 'data_pool/train/images/3177986.jpg', 'data_pool/train/images/3216701.jpg', 'data_pool/train/images/3208671.jpg', 'data_pool/train/images/3169906.jpg', 'data_pool/train/images/3234514.jpg', 'data_pool/train/images/3152148.jpg', 'data_pool/train/images/3194351.jpg', 'data_pool/train/images/3161063.jpg', 'data_pool/train/images/3197944.jpg', 'data_pool/train/images/3155418.jpg', 'data_pool/train/images/3224905.jpg', 'data_pool/train/images/3230982.jpg', 'data_pool/train/images/3213462.jpg', 'data_pool/train/images/3173935.jpg', 'data_pool/train/images/3234929.jpg', 'data_pool/train/images/3201424.jpg', 'data_pool/train/images/3180041.jpg', 'data_pool/train/images/3219656.jpg', 'data_pool/train/images/3215691.jpg', 'data_pool/train/images/3236252.jpg', 'data_pool/train/images/3199476.jpg', 'data_pool/train/images/3228252.jpg', 'data_pool/train/images/3221306.jpg', 'data_pool/train/images/3198496.jpg', 'data_pool/train/images/3187994.jpg', 'data_pool/train/images/3220012.jpg', 'data_pool/train/images/3206803.jpg', 'data_pool/train/images/3196150.jpg', 'data_pool/train/images/3218011.jpg', 'data_pool/train/images/3154240.jpg', 'data_pool/train/images/3154104.jpg', 'data_pool/train/images/3211627.jpg', 'data_pool/train/images/3192963.jpg', 'data_pool/train/images/3223938.jpg', 'data_pool/train/images/3169083.jpg', 'data_pool/train/images/3196258.jpg', 'data_pool/train/images/3193270.jpg', 'data_pool/train/images/3190025.jpg', 'data_pool/train/images/3175110.jpg', 'data_pool/train/images/3231518.jpg', 'data_pool/train/images/3150744.jpg', 'data_pool/train/images/3229005.jpg', 'data_pool/train/images/3203013.jpg', 'data_pool/train/images/3192342.jpg', 'data_pool/train/images/3179088.jpg', 'data_pool/train/images/3216479.jpg', 'data_pool/train/images/3217484.jpg', 'data_pool/train/images/3201280.jpg', 'data_pool/train/images/3202177.jpg', 'data_pool/train/images/3214512.jpg', 'data_pool/train/images/3150265.jpg', 'data_pool/train/images/3166691.jpg', 'data_pool/train/images/3198130.jpg', 'data_pool/train/images/3195236.jpg', 'data_pool/train/images/3171866.jpg', 'data_pool/train/images/3226087.jpg', 'data_pool/train/images/3201767.jpg', 'data_pool/train/images/3230761.jpg', 'data_pool/train/images/3182650.jpg', 'data_pool/train/images/3164153.jpg', 'data_pool/train/images/3170282.jpg', 'data_pool/train/images/3232096.jpg', 'data_pool/train/images/3170542.jpg', 'data_pool/train/images/3232092.jpg', 'data_pool/train/images/3202596.jpg', 'data_pool/train/images/3239293.jpg', 'data_pool/train/images/3162843.jpg', 'data_pool/train/images/3172762.jpg', 'data_pool/train/images/3219305.jpg', 'data_pool/train/images/3155016.jpg', 'data_pool/train/images/3163186.jpg', 'data_pool/train/images/3233088.jpg', 'data_pool/train/images/3173882.jpg', 'data_pool/train/images/3222086.jpg', 'data_pool/train/images/3215698.jpg', 'data_pool/train/images/3217445.jpg', 'data_pool/train/images/3207663.jpg', 'data_pool/train/images/3155983.jpg', 'data_pool/train/images/3162097.jpg', 'data_pool/train/images/3179223.jpg', 'data_pool/train/images/3236593.jpg', 'data_pool/train/images/3221188.jpg', 'data_pool/train/images/3215389.jpg', 'data_pool/train/images/3213665.jpg', 'data_pool/train/images/3146792.jpg', 'data_pool/train/images/3207263.jpg', 'data_pool/train/images/3189885.jpg', 'data_pool/train/images/3152498.jpg', 'data_pool/train/images/3211827.jpg', 'data_pool/train/images/3231371.jpg', 'data_pool/train/images/3173690.jpg', 'data_pool/train/images/3216195.jpg', 'data_pool/train/images/3186792.jpg', 'data_pool/train/images/3209303.jpg', 'data_pool/train/images/3204660.jpg', 'data_pool/train/images/3228675.jpg', 'data_pool/train/images/3207319.jpg', 'data_pool/train/images/3204886.jpg', 'data_pool/train/images/3203188.jpg', 'data_pool/train/images/3156613.jpg', 'data_pool/train/images/3220358.jpg', 'data_pool/train/images/3145575.jpg', 'data_pool/train/images/3228910.jpg', 'data_pool/train/images/3215114.jpg', 'data_pool/train/images/3230212.jpg', 'data_pool/train/images/3204306.jpg', 'data_pool/train/images/3234472.jpg', 'data_pool/train/images/3177101.jpg', 'data_pool/train/images/3235654.jpg', 'data_pool/train/images/3222107.jpg', 'data_pool/train/images/3216960.jpg', 'data_pool/train/images/3184761.jpg', 'data_pool/train/images/3237999.jpg', 'data_pool/train/images/3181149.jpg', 'data_pool/train/images/3174181.jpg', 'data_pool/train/images/3145560.jpg', 'data_pool/train/images/3207398.jpg', 'data_pool/train/images/3205217.jpg', 'data_pool/train/images/3234853.jpg', 'data_pool/train/images/3207518.jpg', 'data_pool/train/images/3204120.jpg', 'data_pool/train/images/3147219.jpg', 'data_pool/train/images/3202846.jpg', 'data_pool/train/images/3214261.jpg', 'data_pool/train/images/3161924.jpg', 'data_pool/train/images/3203667.jpg', 'data_pool/train/images/3149980.jpg', 'data_pool/train/images/3238061.jpg', 'data_pool/train/images/3225315.jpg', 'data_pool/train/images/3230848.jpg', 'data_pool/train/images/3159025.jpg', 'data_pool/train/images/3187205.jpg', 'data_pool/train/images/3164696.jpg', 'data_pool/train/images/3171418.jpg', 'data_pool/train/images/3164740.jpg', 'data_pool/train/images/3183880.jpg', 'data_pool/train/images/3234931.jpg', 'data_pool/train/images/3235492.jpg', 'data_pool/train/images/3163792.jpg', 'data_pool/train/images/3196917.jpg', 'data_pool/train/images/3169033.jpg', 'data_pool/train/images/3185245.jpg', 'data_pool/train/images/3172894.jpg', 'data_pool/train/images/3237030.jpg', 'data_pool/train/images/3219127.jpg', 'data_pool/train/images/3197193.jpg', 'data_pool/train/images/3202626.jpg', 'data_pool/train/images/3184882.jpg', 'data_pool/train/images/3216290.jpg', 'data_pool/train/images/3157640.jpg', 'data_pool/train/images/3238145.jpg', 'data_pool/train/images/3152414.jpg', 'data_pool/train/images/3219085.jpg', 'data_pool/train/images/3207757.jpg', 'data_pool/train/images/3204212.jpg', 'data_pool/train/images/3192960.jpg', 'data_pool/train/images/3236349.jpg', 'data_pool/train/images/3160727.jpg', 'data_pool/train/images/3145829.jpg', 'data_pool/train/images/3233919.jpg', 'data_pool/train/images/3182754.jpg', 'data_pool/train/images/3232085.jpg', 'data_pool/train/images/3226711.jpg', 'data_pool/train/images/3211379.jpg', 'data_pool/train/images/3196628.jpg', 'data_pool/train/images/3202952.jpg', 'data_pool/train/images/3199011.jpg', 'data_pool/train/images/3225508.jpg', 'data_pool/train/images/3178649.jpg', 'data_pool/train/images/3170640.jpg', 'data_pool/train/images/3204227.jpg', 'data_pool/train/images/3234523.jpg', 'data_pool/train/images/3173588.jpg', 'data_pool/train/images/3169171.jpg', 'data_pool/train/images/3206777.jpg', 'data_pool/train/images/3208879.jpg', 'data_pool/train/images/3182593.jpg', 'data_pool/train/images/3166617.jpg', 'data_pool/train/images/3235562.jpg', 'data_pool/train/images/3164075.jpg', 'data_pool/train/images/3207638.jpg', 'data_pool/train/images/3167948.jpg', 'data_pool/train/images/3177433.jpg', 'data_pool/train/images/3178599.jpg', 'data_pool/train/images/3159463.jpg', 'data_pool/train/images/3173123.jpg', 'data_pool/train/images/3189020.jpg', 'data_pool/train/images/3183713.jpg', 'data_pool/train/images/3157398.jpg', 'data_pool/train/images/3239132.jpg', 'data_pool/train/images/3238624.jpg', 'data_pool/train/images/3228314.jpg', 'data_pool/train/images/3147372.jpg', 'data_pool/train/images/3211512.jpg', 'data_pool/train/images/3219471.jpg', 'data_pool/train/images/3197646.jpg', 'data_pool/train/images/3205744.jpg', 'data_pool/train/images/3216752.jpg', 'data_pool/train/images/3232240.jpg', 'data_pool/train/images/3171102.jpg', 'data_pool/train/images/3207884.jpg', 'data_pool/train/images/3171660.jpg', 'data_pool/train/images/3211372.jpg', 'data_pool/train/images/3217774.jpg', 'data_pool/train/images/3178162.jpg', 'data_pool/train/images/3223363.jpg', 'data_pool/train/images/3221375.jpg', 'data_pool/train/images/3178496.jpg', 'data_pool/train/images/3208311.jpg', 'data_pool/train/images/3158061.jpg', 'data_pool/train/images/3229202.jpg', 'data_pool/train/images/3227195.jpg', 'data_pool/train/images/3155697.jpg', 'data_pool/train/images/3203051.jpg', 'data_pool/train/images/3167013.jpg', 'data_pool/train/images/3171004.jpg', 'data_pool/train/images/3220659.jpg', 'data_pool/train/images/3209806.jpg', 'data_pool/train/images/3219113.jpg', 'data_pool/train/images/3214138.jpg', 'data_pool/train/images/3207204.jpg', 'data_pool/train/images/3211820.jpg', 'data_pool/train/images/3237826.jpg', 'data_pool/train/images/3215731.jpg', 'data_pool/train/images/3211160.jpg', 'data_pool/train/images/3156737.jpg', 'data_pool/train/images/3215787.jpg', 'data_pool/train/images/3177209.jpg', 'data_pool/train/images/3165704.jpg', 'data_pool/train/images/3230323.jpg', 'data_pool/train/images/3176439.jpg', 'data_pool/train/images/3178431.jpg', 'data_pool/train/images/3196213.jpg', 'data_pool/train/images/3172620.jpg', 'data_pool/train/images/3199202.jpg', 'data_pool/train/images/3182900.jpg', 'data_pool/train/images/3213454.jpg', 'data_pool/train/images/3220316.jpg', 'data_pool/train/images/3231923.jpg', 'data_pool/train/images/3238027.jpg', 'data_pool/train/images/3142287.jpg', 'data_pool/train/images/3141193.jpg', 'data_pool/train/images/3221662.jpg', 'data_pool/train/images/3205329.jpg', 'data_pool/train/images/3182118.jpg', 'data_pool/train/images/3187429.jpg', 'data_pool/train/images/3197637.jpg', 'data_pool/train/images/3169788.jpg', 'data_pool/train/images/3212030.jpg', 'data_pool/train/images/3183407.jpg', 'data_pool/train/images/3204382.jpg', 'data_pool/train/images/3195979.jpg', 'data_pool/train/images/3216783.jpg', 'data_pool/train/images/3198771.jpg', 'data_pool/train/images/3146241.jpg', 'data_pool/train/images/3238651.jpg', 'data_pool/train/images/3162830.jpg', 'data_pool/train/images/3151804.jpg', 'data_pool/train/images/3236963.jpg', 'data_pool/train/images/3195407.jpg', 'data_pool/train/images/3161230.jpg', 'data_pool/train/images/3191838.jpg', 'data_pool/train/images/3218742.jpg', 'data_pool/train/images/3186138.jpg', 'data_pool/train/images/3222258.jpg', 'data_pool/train/images/3141462.jpg', 'data_pool/train/images/3171624.jpg', 'data_pool/train/images/3151795.jpg', 'data_pool/train/images/3229812.jpg', 'data_pool/train/images/3207557.jpg', 'data_pool/train/images/3214402.jpg', 'data_pool/train/images/3213822.jpg', 'data_pool/train/images/3146680.jpg', 'data_pool/train/images/3229839.jpg', 'data_pool/train/images/3189881.jpg', 'data_pool/train/images/3227684.jpg', 'data_pool/train/images/3224756.jpg', 'data_pool/train/images/3169789.jpg', 'data_pool/train/images/3208878.jpg', 'data_pool/train/images/3237625.jpg', 'data_pool/train/images/3203574.jpg', 'data_pool/train/images/3186947.jpg', 'data_pool/train/images/3202034.jpg', 'data_pool/train/images/3216403.jpg', 'data_pool/train/images/3163685.jpg', 'data_pool/train/images/3199646.jpg', 'data_pool/train/images/3217248.jpg', 'data_pool/train/images/3228370.jpg', 'data_pool/train/images/3200280.jpg', 'data_pool/train/images/3175486.jpg', 'data_pool/train/images/3203022.jpg', 'data_pool/train/images/3170063.jpg', 'data_pool/train/images/3230258.jpg', 'data_pool/train/images/3201524.jpg', 'data_pool/train/images/3175989.jpg', 'data_pool/train/images/3175517.jpg', 'data_pool/train/images/3150738.jpg', 'data_pool/train/images/3141468.jpg', 'data_pool/train/images/3185768.jpg', 'data_pool/train/images/3218875.jpg', 'data_pool/train/images/3234571.jpg', 'data_pool/train/images/3195524.jpg', 'data_pool/train/images/3200702.jpg', 'data_pool/train/images/3222866.jpg', 'data_pool/train/images/3230908.jpg', 'data_pool/train/images/3213009.jpg', 'data_pool/train/images/3157443.jpg', 'data_pool/train/images/3206461.jpg', 'data_pool/train/images/3199039.jpg', 'data_pool/train/images/3183812.jpg', 'data_pool/train/images/3230537.jpg', 'data_pool/train/images/3152484.jpg', 'data_pool/train/images/3153997.jpg', 'data_pool/train/images/3177432.jpg', 'data_pool/train/images/3230577.jpg', 'data_pool/train/images/3215301.jpg', 'data_pool/train/images/3205214.jpg', 'data_pool/train/images/3184937.jpg', 'data_pool/train/images/3185138.jpg', 'data_pool/train/images/3231407.jpg', 'data_pool/train/images/3205052.jpg', 'data_pool/train/images/3148558.jpg', 'data_pool/train/images/3198731.jpg', 'data_pool/train/images/3231038.jpg', 'data_pool/train/images/3208307.jpg', 'data_pool/train/images/3149341.jpg', 'data_pool/train/images/3216756.jpg', 'data_pool/train/images/3167237.jpg', 'data_pool/train/images/3208380.jpg', 'data_pool/train/images/3238904.jpg', 'data_pool/train/images/3158108.jpg', 'data_pool/train/images/3238767.jpg', 'data_pool/train/images/3230059.jpg', 'data_pool/train/images/3161808.jpg', 'data_pool/train/images/3169314.jpg', 'data_pool/train/images/3189659.jpg', 'data_pool/train/images/3141012.jpg', 'data_pool/train/images/3213296.jpg', 'data_pool/train/images/3214976.jpg', 'data_pool/train/images/3235318.jpg', 'data_pool/train/images/3155753.jpg', 'data_pool/train/images/3178957.jpg', 'data_pool/train/images/3234129.jpg', 'data_pool/train/images/3230583.jpg', 'data_pool/train/images/3205909.jpg', 'data_pool/train/images/3214274.jpg', 'data_pool/train/images/3186302.jpg', 'data_pool/train/images/3173862.jpg', 'data_pool/train/images/3187900.jpg', 'data_pool/train/images/3223829.jpg', 'data_pool/train/images/3199725.jpg', 'data_pool/train/images/3198341.jpg', 'data_pool/train/images/3170797.jpg', 'data_pool/train/images/3186789.jpg', 'data_pool/train/images/3218463.jpg', 'data_pool/train/images/3190791.jpg', 'data_pool/train/images/3156690.jpg', 'data_pool/train/images/3206507.jpg', 'data_pool/train/images/3141876.jpg', 'data_pool/train/images/3177239.jpg', 'data_pool/train/images/3205715.jpg', 'data_pool/train/images/3178398.jpg', 'data_pool/train/images/3153978.jpg', 'data_pool/train/images/3174640.jpg', 'data_pool/train/images/3214544.jpg', 'data_pool/train/images/3176901.jpg', 'data_pool/train/images/3185952.jpg', 'data_pool/train/images/3181643.jpg', 'data_pool/train/images/3158115.jpg', 'data_pool/train/images/3219068.jpg', 'data_pool/train/images/3212319.jpg', 'data_pool/train/images/3195679.jpg', 'data_pool/train/images/3169563.jpg', 'data_pool/train/images/3183487.jpg', 'data_pool/train/images/3208554.jpg', 'data_pool/train/images/3206177.jpg', 'data_pool/train/images/3190133.jpg', 'data_pool/train/images/3214090.jpg', 'data_pool/train/images/3185909.jpg', 'data_pool/train/images/3208823.jpg', 'data_pool/train/images/3175958.jpg', 'data_pool/train/images/3184674.jpg', 'data_pool/train/images/3189950.jpg', 'data_pool/train/images/3218155.jpg', 'data_pool/train/images/3173985.jpg', 'data_pool/train/images/3160485.jpg', 'data_pool/train/images/3237172.jpg', 'data_pool/train/images/3231839.jpg', 'data_pool/train/images/3207998.jpg', 'data_pool/train/images/3148812.jpg', 'data_pool/train/images/3223618.jpg', 'data_pool/train/images/3202193.jpg', 'data_pool/train/images/3198035.jpg', 'data_pool/train/images/3236030.jpg', 'data_pool/train/images/3191979.jpg', 'data_pool/train/images/3218359.jpg', 'data_pool/train/images/3227473.jpg', 'data_pool/train/images/3179488.jpg', 'data_pool/train/images/3218139.jpg', 'data_pool/train/images/3222518.jpg', 'data_pool/train/images/3232492.jpg', 'data_pool/train/images/3212414.jpg', 'data_pool/train/images/3227046.jpg', 'data_pool/train/images/3225007.jpg', 'data_pool/train/images/3187485.jpg', 'data_pool/train/images/3153149.jpg', 'data_pool/train/images/3202138.jpg', 'data_pool/train/images/3235809.jpg', 'data_pool/train/images/3179065.jpg', 'data_pool/train/images/3182735.jpg', 'data_pool/train/images/3169043.jpg', 'data_pool/train/images/3221611.jpg', 'data_pool/train/images/3171982.jpg', 'data_pool/train/images/3202290.jpg', 'data_pool/train/images/3161837.jpg', 'data_pool/train/images/3211189.jpg', 'data_pool/train/images/3232842.jpg', 'data_pool/train/images/3189662.jpg', 'data_pool/train/images/3187698.jpg', 'data_pool/train/images/3203870.jpg', 'data_pool/train/images/3175922.jpg', 'data_pool/train/images/3204798.jpg', 'data_pool/train/images/3181844.jpg', 'data_pool/train/images/3184647.jpg', 'data_pool/train/images/3206359.jpg', 'data_pool/train/images/3216395.jpg', 'data_pool/train/images/3213472.jpg', 'data_pool/train/images/3168292.jpg', 'data_pool/train/images/3235957.jpg', 'data_pool/train/images/3220293.jpg', 'data_pool/train/images/3178650.jpg', 'data_pool/train/images/3220145.jpg', 'data_pool/train/images/3150628.jpg', 'data_pool/train/images/3199693.jpg', 'data_pool/train/images/3204852.jpg', 'data_pool/train/images/3216685.jpg', 'data_pool/train/images/3175432.jpg', 'data_pool/train/images/3168803.jpg', 'data_pool/train/images/3203140.jpg', 'data_pool/train/images/3234034.jpg', 'data_pool/train/images/3212594.jpg', 'data_pool/train/images/3218568.jpg', 'data_pool/train/images/3166703.jpg', 'data_pool/train/images/3204753.jpg', 'data_pool/train/images/3237097.jpg', 'data_pool/train/images/3210815.jpg', 'data_pool/train/images/3147367.jpg', 'data_pool/train/images/3206717.jpg', 'data_pool/train/images/3158581.jpg', 'data_pool/train/images/3156995.jpg', 'data_pool/train/images/3232027.jpg', 'data_pool/train/images/3162596.jpg', 'data_pool/train/images/3159518.jpg', 'data_pool/train/images/3190354.jpg', 'data_pool/train/images/3236427.jpg', 'data_pool/train/images/3166502.jpg', 'data_pool/train/images/3233441.jpg', 'data_pool/train/images/3200720.jpg', 'data_pool/train/images/3193430.jpg', 'data_pool/train/images/3208254.jpg', 'data_pool/train/images/3198646.jpg', 'data_pool/train/images/3173895.jpg', 'data_pool/train/images/3177784.jpg', 'data_pool/train/images/3237321.jpg', 'data_pool/train/images/3178578.jpg', 'data_pool/train/images/3219411.jpg', 'data_pool/train/images/3163273.jpg', 'data_pool/train/images/3223817.jpg', 'data_pool/train/images/3170698.jpg', 'data_pool/train/images/3228829.jpg', 'data_pool/train/images/3209065.jpg', 'data_pool/train/images/3237091.jpg', 'data_pool/train/images/3212815.jpg', 'data_pool/train/images/3149953.jpg', 'data_pool/train/images/3196401.jpg', 'data_pool/train/images/3210158.jpg', 'data_pool/train/images/3152862.jpg', 'data_pool/train/images/3232272.jpg', 'data_pool/train/images/3157482.jpg', 'data_pool/train/images/3154523.jpg', 'data_pool/train/images/3205710.jpg', 'data_pool/train/images/3236883.jpg', 'data_pool/train/images/3212317.jpg', 'data_pool/train/images/3219862.jpg', 'data_pool/train/images/3186079.jpg', 'data_pool/train/images/3213400.jpg', 'data_pool/train/images/3168716.jpg', 'data_pool/train/images/3233378.jpg', 'data_pool/train/images/3204908.jpg', 'data_pool/train/images/3210564.jpg', 'data_pool/train/images/3218576.jpg', 'data_pool/train/images/3178673.jpg', 'data_pool/train/images/3214262.jpg', 'data_pool/train/images/3161442.jpg', 'data_pool/train/images/3217617.jpg', 'data_pool/train/images/3229763.jpg', 'data_pool/train/images/3201594.jpg', 'data_pool/train/images/3235616.jpg', 'data_pool/train/images/3171329.jpg', 'data_pool/train/images/3196670.jpg', 'data_pool/train/images/3180309.jpg', 'data_pool/train/images/3184436.jpg', 'data_pool/train/images/3172966.jpg', 'data_pool/train/images/3216853.jpg', 'data_pool/train/images/3198296.jpg', 'data_pool/train/images/3193468.jpg', 'data_pool/train/images/3208285.jpg', 'data_pool/train/images/3226107.jpg', 'data_pool/train/images/3176817.jpg', 'data_pool/train/images/3165025.jpg', 'data_pool/train/images/3180743.jpg', 'data_pool/train/images/3226829.jpg', 'data_pool/train/images/3216787.jpg', 'data_pool/train/images/3216786.jpg', 'data_pool/train/images/3213784.jpg', 'data_pool/train/images/3209837.jpg', 'data_pool/train/images/3232020.jpg', 'data_pool/train/images/3158242.jpg', 'data_pool/train/images/3219055.jpg', 'data_pool/train/images/3202320.jpg', 'data_pool/train/images/3176037.jpg', 'data_pool/train/images/3167603.jpg', 'data_pool/train/images/3229845.jpg', 'data_pool/train/images/3172695.jpg', 'data_pool/train/images/3185219.jpg', 'data_pool/train/images/3184237.jpg', 'data_pool/train/images/3199091.jpg', 'data_pool/train/images/3157897.jpg', 'data_pool/train/images/3186441.jpg', 'data_pool/train/images/3177085.jpg', 'data_pool/train/images/3172842.jpg', 'data_pool/train/images/3238115.jpg', 'data_pool/train/images/3167604.jpg', 'data_pool/train/images/3174924.jpg', 'data_pool/train/images/3221885.jpg', 'data_pool/train/images/3212679.jpg', 'data_pool/train/images/3148100.jpg', 'data_pool/train/images/3225136.jpg', 'data_pool/train/images/3152491.jpg', 'data_pool/train/images/3167374.jpg', 'data_pool/train/images/3233990.jpg', 'data_pool/train/images/3184722.jpg', 'data_pool/train/images/3175802.jpg', 'data_pool/train/images/3206558.jpg', 'data_pool/train/images/3171119.jpg', 'data_pool/train/images/3219114.jpg', 'data_pool/train/images/3219676.jpg', 'data_pool/train/images/3191044.jpg', 'data_pool/train/images/3163705.jpg', 'data_pool/train/images/3183441.jpg', 'data_pool/train/images/3197983.jpg', 'data_pool/train/images/3193967.jpg', 'data_pool/train/images/3236183.jpg', 'data_pool/train/images/3179057.jpg', 'data_pool/train/images/3183436.jpg', 'data_pool/train/images/3234284.jpg', 'data_pool/train/images/3205545.jpg', 'data_pool/train/images/3162463.jpg', 'data_pool/train/images/3187307.jpg', 'data_pool/train/images/3148102.jpg', 'data_pool/train/images/3211819.jpg', 'data_pool/train/images/3233542.jpg', 'data_pool/train/images/3205320.jpg', 'data_pool/train/images/3154639.jpg', 'data_pool/train/images/3209580.jpg', 'data_pool/train/images/3165403.jpg', 'data_pool/train/images/3216193.jpg', 'data_pool/train/images/3160181.jpg', 'data_pool/train/images/3222668.jpg', 'data_pool/train/images/3217632.jpg', 'data_pool/train/images/3229171.jpg', 'data_pool/train/images/3203866.jpg', 'data_pool/train/images/3220767.jpg', 'data_pool/train/images/3191978.jpg', 'data_pool/train/images/3178997.jpg', 'data_pool/train/images/3180019.jpg', 'data_pool/train/images/3168579.jpg', 'data_pool/train/images/3232474.jpg', 'data_pool/train/images/3175077.jpg', 'data_pool/train/images/3188778.jpg', 'data_pool/train/images/3207406.jpg', 'data_pool/train/images/3227706.jpg', 'data_pool/train/images/3232617.jpg', 'data_pool/train/images/3200862.jpg', 'data_pool/train/images/3230224.jpg', 'data_pool/train/images/3228955.jpg', 'data_pool/train/images/3210890.jpg', 'data_pool/train/images/3158031.jpg', 'data_pool/train/images/3177487.jpg', 'data_pool/train/images/3156944.jpg', 'data_pool/train/images/3210451.jpg', 'data_pool/train/images/3173320.jpg', 'data_pool/train/images/3217242.jpg', 'data_pool/train/images/3151816.jpg', 'data_pool/train/images/3233431.jpg', 'data_pool/train/images/3176710.jpg', 'data_pool/train/images/3159241.jpg', 'data_pool/train/images/3152293.jpg', 'data_pool/train/images/3225619.jpg', 'data_pool/train/images/3202927.jpg', 'data_pool/train/images/3230350.jpg', 'data_pool/train/images/3144415.jpg', 'data_pool/train/images/3211857.jpg', 'data_pool/train/images/3235798.jpg', 'data_pool/train/images/3166455.jpg', 'data_pool/train/images/3178935.jpg', 'data_pool/train/images/3234000.jpg', 'data_pool/train/images/3222458.jpg', 'data_pool/train/images/3189728.jpg', 'data_pool/train/images/3182048.jpg', 'data_pool/train/images/3182054.jpg', 'data_pool/train/images/3225546.jpg', 'data_pool/train/images/3186223.jpg', 'data_pool/train/images/3207464.jpg', 'data_pool/train/images/3183432.jpg', 'data_pool/train/images/3210624.jpg', 'data_pool/train/images/3170847.jpg', 'data_pool/train/images/3215988.jpg', 'data_pool/train/images/3227147.jpg', 'data_pool/train/images/3236021.jpg', 'data_pool/train/images/3238038.jpg', 'data_pool/train/images/3182234.jpg', 'data_pool/train/images/3164007.jpg', 'data_pool/train/images/3221480.jpg', 'data_pool/train/images/3195261.jpg', 'data_pool/train/images/3235540.jpg', 'data_pool/train/images/3213422.jpg', 'data_pool/train/images/3179560.jpg', 'data_pool/train/images/3145216.jpg', 'data_pool/train/images/3198494.jpg', 'data_pool/train/images/3186073.jpg', 'data_pool/train/images/3238427.jpg', 'data_pool/train/images/3168621.jpg', 'data_pool/train/images/3234054.jpg', 'data_pool/train/images/3195527.jpg', 'data_pool/train/images/3200267.jpg', 'data_pool/train/images/3183057.jpg', 'data_pool/train/images/3209601.jpg', 'data_pool/train/images/3199975.jpg', 'data_pool/train/images/3236637.jpg', 'data_pool/train/images/3197948.jpg', 'data_pool/train/images/3158436.jpg', 'data_pool/train/images/3232266.jpg', 'data_pool/train/images/3205271.jpg', 'data_pool/train/images/3211091.jpg', 'data_pool/train/images/3174984.jpg', 'data_pool/train/images/3204386.jpg', 'data_pool/train/images/3184197.jpg', 'data_pool/train/images/3236717.jpg', 'data_pool/train/images/3235609.jpg', 'data_pool/train/images/3208768.jpg', 'data_pool/train/images/3201584.jpg', 'data_pool/train/images/3205566.jpg', 'data_pool/train/images/3206498.jpg', 'data_pool/train/images/3194524.jpg', 'data_pool/train/images/3208230.jpg', 'data_pool/train/images/3222274.jpg', 'data_pool/train/images/3198574.jpg', 'data_pool/train/images/3208637.jpg', 'data_pool/train/images/3149368.jpg', 'data_pool/train/images/3179256.jpg', 'data_pool/train/images/3158111.jpg', 'data_pool/train/images/3175109.jpg', 'data_pool/train/images/3219679.jpg', 'data_pool/train/images/3225656.jpg', 'data_pool/train/images/3235277.jpg', 'data_pool/train/images/3166060.jpg', 'data_pool/train/images/3208338.jpg', 'data_pool/train/images/3201713.jpg', 'data_pool/train/images/3223052.jpg', 'data_pool/train/images/3231713.jpg']\n"
     ]
    },
    {
     "name": "stderr",
     "output_type": "stream",
     "text": [
      "2024-10-20 01:22:00.135212: I external/local_xla/xla/stream_executor/cuda/cuda_executor.cc:901] successful NUMA node read from SysFS had negative value (-1), but there must be at least one NUMA node, so returning NUMA node zero. See more at https://github.com/torvalds/linux/blob/v6.0/Documentation/ABI/testing/sysfs-bus-pci#L344-L355\n",
      "2024-10-20 01:22:00.139427: I external/local_xla/xla/stream_executor/cuda/cuda_executor.cc:901] successful NUMA node read from SysFS had negative value (-1), but there must be at least one NUMA node, so returning NUMA node zero. See more at https://github.com/torvalds/linux/blob/v6.0/Documentation/ABI/testing/sysfs-bus-pci#L344-L355\n",
      "2024-10-20 01:22:00.146258: I external/local_xla/xla/stream_executor/cuda/cuda_executor.cc:901] successful NUMA node read from SysFS had negative value (-1), but there must be at least one NUMA node, so returning NUMA node zero. See more at https://github.com/torvalds/linux/blob/v6.0/Documentation/ABI/testing/sysfs-bus-pci#L344-L355\n",
      "2024-10-20 01:22:00.176039: I external/local_xla/xla/stream_executor/cuda/cuda_executor.cc:901] successful NUMA node read from SysFS had negative value (-1), but there must be at least one NUMA node, so returning NUMA node zero. See more at https://github.com/torvalds/linux/blob/v6.0/Documentation/ABI/testing/sysfs-bus-pci#L344-L355\n",
      "2024-10-20 01:22:00.178911: I external/local_xla/xla/stream_executor/cuda/cuda_executor.cc:901] successful NUMA node read from SysFS had negative value (-1), but there must be at least one NUMA node, so returning NUMA node zero. See more at https://github.com/torvalds/linux/blob/v6.0/Documentation/ABI/testing/sysfs-bus-pci#L344-L355\n",
      "2024-10-20 01:22:00.212051: I external/local_xla/xla/stream_executor/cuda/cuda_executor.cc:901] successful NUMA node read from SysFS had negative value (-1), but there must be at least one NUMA node, so returning NUMA node zero. See more at https://github.com/torvalds/linux/blob/v6.0/Documentation/ABI/testing/sysfs-bus-pci#L344-L355\n",
      "2024-10-20 01:22:00.405203: I external/local_xla/xla/stream_executor/cuda/cuda_executor.cc:901] successful NUMA node read from SysFS had negative value (-1), but there must be at least one NUMA node, so returning NUMA node zero. See more at https://github.com/torvalds/linux/blob/v6.0/Documentation/ABI/testing/sysfs-bus-pci#L344-L355\n",
      "2024-10-20 01:22:00.406471: I external/local_xla/xla/stream_executor/cuda/cuda_executor.cc:901] successful NUMA node read from SysFS had negative value (-1), but there must be at least one NUMA node, so returning NUMA node zero. See more at https://github.com/torvalds/linux/blob/v6.0/Documentation/ABI/testing/sysfs-bus-pci#L344-L355\n",
      "2024-10-20 01:22:00.407529: I external/local_xla/xla/stream_executor/cuda/cuda_executor.cc:901] successful NUMA node read from SysFS had negative value (-1), but there must be at least one NUMA node, so returning NUMA node zero. See more at https://github.com/torvalds/linux/blob/v6.0/Documentation/ABI/testing/sysfs-bus-pci#L344-L355\n",
      "2024-10-20 01:22:00.408636: I external/local_xla/xla/stream_executor/cuda/cuda_executor.cc:901] successful NUMA node read from SysFS had negative value (-1), but there must be at least one NUMA node, so returning NUMA node zero. See more at https://github.com/torvalds/linux/blob/v6.0/Documentation/ABI/testing/sysfs-bus-pci#L344-L355\n",
      "2024-10-20 01:22:00.409596: I external/local_xla/xla/stream_executor/cuda/cuda_executor.cc:901] successful NUMA node read from SysFS had negative value (-1), but there must be at least one NUMA node, so returning NUMA node zero. See more at https://github.com/torvalds/linux/blob/v6.0/Documentation/ABI/testing/sysfs-bus-pci#L344-L355\n",
      "2024-10-20 01:22:00.410611: I external/local_xla/xla/stream_executor/cuda/cuda_executor.cc:901] successful NUMA node read from SysFS had negative value (-1), but there must be at least one NUMA node, so returning NUMA node zero. See more at https://github.com/torvalds/linux/blob/v6.0/Documentation/ABI/testing/sysfs-bus-pci#L344-L355\n",
      "2024-10-20 01:22:00.445654: I external/local_xla/xla/stream_executor/cuda/cuda_executor.cc:901] successful NUMA node read from SysFS had negative value (-1), but there must be at least one NUMA node, so returning NUMA node zero. See more at https://github.com/torvalds/linux/blob/v6.0/Documentation/ABI/testing/sysfs-bus-pci#L344-L355\n",
      "2024-10-20 01:22:00.446836: I external/local_xla/xla/stream_executor/cuda/cuda_executor.cc:901] successful NUMA node read from SysFS had negative value (-1), but there must be at least one NUMA node, so returning NUMA node zero. See more at https://github.com/torvalds/linux/blob/v6.0/Documentation/ABI/testing/sysfs-bus-pci#L344-L355\n",
      "2024-10-20 01:22:00.447866: I external/local_xla/xla/stream_executor/cuda/cuda_executor.cc:901] successful NUMA node read from SysFS had negative value (-1), but there must be at least one NUMA node, so returning NUMA node zero. See more at https://github.com/torvalds/linux/blob/v6.0/Documentation/ABI/testing/sysfs-bus-pci#L344-L355\n",
      "2024-10-20 01:22:00.448888: I external/local_xla/xla/stream_executor/cuda/cuda_executor.cc:901] successful NUMA node read from SysFS had negative value (-1), but there must be at least one NUMA node, so returning NUMA node zero. See more at https://github.com/torvalds/linux/blob/v6.0/Documentation/ABI/testing/sysfs-bus-pci#L344-L355\n",
      "2024-10-20 01:22:00.449854: I external/local_xla/xla/stream_executor/cuda/cuda_executor.cc:901] successful NUMA node read from SysFS had negative value (-1), but there must be at least one NUMA node, so returning NUMA node zero. See more at https://github.com/torvalds/linux/blob/v6.0/Documentation/ABI/testing/sysfs-bus-pci#L344-L355\n",
      "2024-10-20 01:22:00.450927: I tensorflow/core/common_runtime/gpu/gpu_device.cc:1929] Created device /job:localhost/replica:0/task:0/device:GPU:0 with 5762 MB memory:  -> device: 0, name: NVIDIA GeForce RTX 3070, pci bus id: 0000:06:00.0, compute capability: 8.6\n",
      "2024-10-20 01:22:00.451286: I external/local_xla/xla/stream_executor/cuda/cuda_executor.cc:901] successful NUMA node read from SysFS had negative value (-1), but there must be at least one NUMA node, so returning NUMA node zero. See more at https://github.com/torvalds/linux/blob/v6.0/Documentation/ABI/testing/sysfs-bus-pci#L344-L355\n",
      "2024-10-20 01:22:00.452226: I tensorflow/core/common_runtime/gpu/gpu_device.cc:1929] Created device /job:localhost/replica:0/task:0/device:GPU:1 with 10272 MB memory:  -> device: 1, name: NVIDIA GeForce RTX 3060, pci bus id: 0000:01:00.0, compute capability: 8.6\n",
      "2024-10-20 01:22:00.634655: I external/local_tsl/tsl/platform/default/subprocess.cc:304] Start cannot spawn child process: No such file or directory\n"
     ]
    },
    {
     "name": "stdout",
     "output_type": "stream",
     "text": [
      "Total size: 1279\n",
      "Training dataset size: 1023, Validation dataset size: 256\n",
      "Number of batches in training dataset: 1023\n",
      "Number of batches in validation dataset: 256\n"
     ]
    }
   ],
   "source": [
    "import tensorflow as tf\n",
    "def parse_function(filename, label):\n",
    "    image_string = tf.io.read_file(filename)  \n",
    "    image = tf.image.decode_jpeg(image_string, channels=3)  \n",
    "    image = tf.image.resize(image, [256, 256])  \n",
    "    image = image / 255.0  \n",
    "    return image, label\n",
    "\n",
    "total_size = len(train_df)\n",
    "train_size = int(0.8 * total_size)\n",
    "val_size = total_size - train_size\n",
    "\n",
    "print(list(train_df[\"image_path\"]))\n",
    "\n",
    "dataset = tf.data.Dataset.from_tensor_slices((list(train_df[\"image_path\"]), list(train_df[\"pool\"])))\n",
    "\n",
    "dataset = dataset.map(parse_function, num_parallel_calls=tf.data.AUTOTUNE)\n",
    "\n",
    "dataset = dataset.shuffle(buffer_size=total_size, seed=42)\n",
    "\n",
    "\n",
    "\n",
    "train_dataset = dataset.take(train_size)\n",
    "val_dataset = dataset.skip(train_size)\n",
    "\n",
    "\n",
    "train_dataset = train_dataset.batch(1)\n",
    "train_dataset = train_dataset.prefetch(tf.data.AUTOTUNE)\n",
    "\n",
    "val_dataset = val_dataset.batch(1)\n",
    "val_dataset = val_dataset.prefetch(tf.data.AUTOTUNE)\n",
    "\n",
    "\n",
    "print(f\"Total size: {total_size}\")\n",
    "print(f\"Training dataset size: {train_size}, Validation dataset size: {val_size}\")\n",
    "print(f\"Number of batches in training dataset: {len(train_dataset)}\")\n",
    "print(f\"Number of batches in validation dataset: {len(val_dataset)}\")\n"
   ]
  },
  {
   "cell_type": "markdown",
   "id": "f99f2c94",
   "metadata": {},
   "source": [
    "<h2 align=right style=\"line-height:200%;font-family:vazir;color:#0099cc\">\n",
    "<font face=\"vazir\" color=\"#0099cc\">\n",
    "مدل‌سازی\n",
    "</font>\n",
    "</h2>\n",
    "\n",
    "<p dir=rtl style=\"direction: rtl; text-align: justify; line-height:200%; font-family:vazir; font-size:medium\">\n",
    "<font face=\"vazir\" size=3>\n",
    "    حال که داده‌ها را پیش‌پردازش کرده‌ایم، و دسته‌بندی وجود یا عدم وجود استخر را از متن انجام داده‌ایم، وقت آن است که مدلی آموزش دهیم که بتواند متغیر هدف این مسئله یعنی وجود یا عدم وجود استخر را پیش‌بینی کند.\n",
    "    <br>\n",
    "</font>\n",
    "</p>"
   ]
  },
  {
   "cell_type": "code",
   "execution_count": 10,
   "id": "03d20a30",
   "metadata": {},
   "outputs": [],
   "source": [
    "from tensorflow.keras.models import Sequential\n",
    "from tensorflow.keras.layers import Conv2D, MaxPooling2D, Flatten, Dense, Dropout, Input\n",
    "from tensorflow.keras import layers, models\n",
    "\n",
    "attributes = ['pool']\n",
    "\n",
    "\n",
    "\n",
    "def create_model():\n",
    "    inputs = layers.Input(shape=(256, 256, 3))\n",
    "    x = layers.Conv2D(32, (3,3), activation='relu')(inputs)\n",
    "    x = layers.MaxPooling2D()(x)\n",
    "    x = layers.Conv2D(64, (9,9), activation='relu')(inputs)\n",
    "    x = layers.MaxPooling2D()(x)\n",
    "    x = layers.Conv2D(128, (3,3), activation='relu')(x)\n",
    "    x = layers.MaxPooling2D()(x)\n",
    "\n",
    "    x = layers.Flatten()(x)\n",
    "    x = layers.Dense(256, activation='relu')(x)\n",
    "    outputs = layers.Dense(1, activation='softmax')(x)  \n",
    "    model = models.Model(inputs, outputs)\n",
    "    return model\n",
    "\n"
   ]
  },
  {
   "cell_type": "code",
   "execution_count": 11,
   "id": "21d70d64",
   "metadata": {},
   "outputs": [
    {
     "name": "stdout",
     "output_type": "stream",
     "text": [
      "Epoch 1/7\n"
     ]
    },
    {
     "name": "stderr",
     "output_type": "stream",
     "text": [
      "2024-10-20 01:22:01.737651: I external/local_xla/xla/stream_executor/cuda/cuda_dnn.cc:454] Loaded cuDNN version 8902\n",
      "2024-10-20 01:22:01.866492: I external/local_tsl/tsl/platform/default/subprocess.cc:304] Start cannot spawn child process: No such file or directory\n",
      "2024-10-20 01:22:02.318499: I external/local_xla/xla/service/service.cc:168] XLA service 0x7fe2a03d58d0 initialized for platform CUDA (this does not guarantee that XLA will be used). Devices:\n",
      "2024-10-20 01:22:02.318524: I external/local_xla/xla/service/service.cc:176]   StreamExecutor device (0): NVIDIA GeForce RTX 3070, Compute Capability 8.6\n",
      "2024-10-20 01:22:02.318528: I external/local_xla/xla/service/service.cc:176]   StreamExecutor device (1): NVIDIA GeForce RTX 3060, Compute Capability 8.6\n",
      "2024-10-20 01:22:02.326440: I tensorflow/compiler/mlir/tensorflow/utils/dump_mlir_util.cc:269] disabling MLIR crash reproducer, set env var `MLIR_CRASH_REPRODUCER_DIRECTORY` to enable.\n",
      "WARNING: All log messages before absl::InitializeLog() is called are written to STDERR\n",
      "I0000 00:00:1729374722.379163   19746 device_compiler.h:186] Compiled cluster using XLA!  This line is logged at most once for the lifetime of the process.\n"
     ]
    },
    {
     "name": "stdout",
     "output_type": "stream",
     "text": [
      "1023/1023 [==============================] - ETA: 0s - loss: 1.1113 - accuracy: 0.5455\n",
      "Epoch 1: val_loss improved from inf to 0.64976, saving model to best_model.h5\n"
     ]
    },
    {
     "name": "stderr",
     "output_type": "stream",
     "text": [
      "/home/absi1377/anaconda3/envs/cornac/lib/python3.11/site-packages/keras/src/engine/training.py:3103: UserWarning: You are saving your model as an HDF5 file via `model.save()`. This file format is considered legacy. We recommend using instead the native Keras format, e.g. `model.save('my_model.keras')`.\n",
      "  saving_api.save_model(\n"
     ]
    },
    {
     "name": "stdout",
     "output_type": "stream",
     "text": [
      "1023/1023 [==============================] - 29s 26ms/step - loss: 1.1113 - accuracy: 0.5455 - val_loss: 0.6498 - val_accuracy: 0.5469\n",
      "Epoch 2/7\n",
      "1022/1023 [============================>.] - ETA: 0s - loss: 0.7594 - accuracy: 0.5499\n",
      "Epoch 2: val_loss improved from 0.64976 to 0.63502, saving model to best_model.h5\n",
      "1023/1023 [==============================] - 28s 27ms/step - loss: 0.7595 - accuracy: 0.5494 - val_loss: 0.6350 - val_accuracy: 0.5664\n",
      "Epoch 3/7\n",
      "1023/1023 [==============================] - ETA: 0s - loss: 0.6835 - accuracy: 0.5347\n",
      "Epoch 3: val_loss improved from 0.63502 to 0.60552, saving model to best_model.h5\n",
      "1023/1023 [==============================] - 29s 28ms/step - loss: 0.6835 - accuracy: 0.5347 - val_loss: 0.6055 - val_accuracy: 0.5586\n",
      "Epoch 4/7\n",
      "1021/1023 [============================>.] - ETA: 0s - loss: 0.5764 - accuracy: 0.5446\n",
      "Epoch 4: val_loss improved from 0.60552 to 0.49201, saving model to best_model.h5\n",
      "1023/1023 [==============================] - 26s 25ms/step - loss: 0.5759 - accuracy: 0.5455 - val_loss: 0.4920 - val_accuracy: 0.5469\n",
      "Epoch 5/7\n",
      "1022/1023 [============================>.] - ETA: 0s - loss: 0.4619 - accuracy: 0.5215\n",
      "Epoch 5: val_loss improved from 0.49201 to 0.38379, saving model to best_model.h5\n",
      "1023/1023 [==============================] - 29s 28ms/step - loss: 0.4622 - accuracy: 0.5220 - val_loss: 0.3838 - val_accuracy: 0.5195\n",
      "Epoch 6/7\n",
      "1021/1023 [============================>.] - ETA: 0s - loss: 0.4211 - accuracy: 0.5446\n",
      "Epoch 6: val_loss improved from 0.38379 to 0.21481, saving model to best_model.h5\n",
      "1023/1023 [==============================] - 26s 26ms/step - loss: 0.4215 - accuracy: 0.5435 - val_loss: 0.2148 - val_accuracy: 0.5195\n",
      "Epoch 7/7\n",
      "1023/1023 [==============================] - ETA: 0s - loss: 0.2522 - accuracy: 0.5464\n",
      "Epoch 7: val_loss improved from 0.21481 to 0.13534, saving model to best_model.h5\n",
      "1023/1023 [==============================] - 29s 28ms/step - loss: 0.2522 - accuracy: 0.5464 - val_loss: 0.1353 - val_accuracy: 0.5469\n"
     ]
    }
   ],
   "source": [
    "\n",
    "model = create_model()\n",
    "model.compile(optimizer='adam', \n",
    "              loss='binary_crossentropy', \n",
    "              metrics=['accuracy'])\n",
    "\n",
    "from tensorflow.keras.callbacks import ModelCheckpoint\n",
    "\n",
    "checkpoint_callback = ModelCheckpoint(\n",
    "    filepath='best_model.h5',  \n",
    "    monitor='val_loss',        \n",
    "    save_best_only=True,      \n",
    "    save_weights_only=False,  \n",
    "    mode='min',               \n",
    "    verbose=1   )             \n",
    "\n",
    "history = model.fit(\n",
    "    train_dataset,\n",
    "    validation_data=val_dataset,\n",
    "    epochs=7,\n",
    "    callbacks=[checkpoint_callback]  \n",
    ")"
   ]
  },
  {
   "cell_type": "markdown",
   "id": "33da5d2a",
   "metadata": {},
   "source": [
    "<h3 align=right style=\"line-height:200%;font-family:vazir;color:#0099cc\">\n",
    "<font face=\"vazir\" color=\"#0099cc\">\n",
    "معیار ارزیابی\n",
    "</font>\n",
    "</h3>\n",
    "\n",
    "<p dir=rtl style=\"direction: rtl; text-align: justify; line-height:200%; font-family:vazir; font-size:medium\">\n",
    "<font face=\"vazir\" size=3>\n",
    "    معیاری که برای ارزیابی عملکرد مدل انتخاب کرده‌ایم، <code>f1_score</code> نام دارد.\n",
    "    <br>\n",
    "</font>\n",
    "</p>"
   ]
  },
  {
   "cell_type": "code",
   "execution_count": 16,
   "id": "cee1b883",
   "metadata": {},
   "outputs": [
    {
     "name": "stdout",
     "output_type": "stream",
     "text": [
      "256/256 [==============================] - 1s 3ms/step\n",
      "F1 Score: 0.7295285359801489\n"
     ]
    }
   ],
   "source": [
    "from sklearn.metrics import f1_score, classification_report, confusion_matrix\n",
    "import numpy as np\n",
    "\n",
    "model.load_weights('best_model.h5')\n",
    "\n",
    "val_predictions = model.predict(val_dataset)\n",
    "\n",
    "val_predictions = (val_predictions > 0.5).astype(int)\n",
    "\n",
    "# Step 4: Get the true labels from the validation dataset\n",
    "val_true_labels = np.concatenate([y for x, y in val_dataset], axis=0)\n",
    "\n",
    "# Step 5: Calculate the F1 score\n",
    "f1 = f1_score(val_true_labels, val_predictions, average='binary')\n",
    "\n",
    "print(f'F1 Score: {f1}')\n"
   ]
  }
 ],
 "metadata": {
  "kernelspec": {
   "display_name": "cornac",
   "language": "python",
   "name": "python3"
  },
  "language_info": {
   "codemirror_mode": {
    "name": "ipython",
    "version": 3
   },
   "file_extension": ".py",
   "mimetype": "text/x-python",
   "name": "python",
   "nbconvert_exporter": "python",
   "pygments_lexer": "ipython3",
   "version": "3.11.5"
  }
 },
 "nbformat": 4,
 "nbformat_minor": 5
}
